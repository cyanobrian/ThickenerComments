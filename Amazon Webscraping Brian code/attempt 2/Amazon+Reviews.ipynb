{
 "cells": [
  {
   "cell_type": "code",
   "execution_count": 3,
   "metadata": {},
   "outputs": [],
   "source": [
    "import pandas as pd\n",
    "import requests\n",
    "from bs4 import BeautifulSoup"
   ]
  },
  {
   "cell_type": "code",
   "execution_count": 4,
   "metadata": {},
   "outputs": [],
   "source": [
    "pages = [\n",
    "    \"https://www.amazon.com/Thick-Instant-Beverage-Thickener-Original/product-reviews/B00FBP39PC/ref=cm_cr_dp_d_show_all_btm?ie=UTF8&reviewerType=all_reviews\",\n",
    "    \"https://www.amazon.com/Thick-Instant-Beverage-Thickener-Original/product-reviews/B00FBP39PC/ref=cm_cr_arp_d_paging_btm_next_2?ie=UTF8&reviewerType=all_reviews&pageNumber=2\",\n",
    "    \"https://www.amazon.com/Thick-Instant-Beverage-Thickener-Original/product-reviews/B00FBP39PC/ref=cm_cr_arp_d_paging_btm_next_2?ie=UTF8&reviewerType=all_reviews&pageNumber=3\"\n",
    "]\n",
    "\n",
    "headers = {\n",
    "    'authority': 'www.amazon.com',\n",
    "    'pragma': 'no-cache',\n",
    "    'cache-control': 'no-cache',\n",
    "    'rtt': '50',\n",
    "    'downlink': '6.65',\n",
    "    'ect': '4g',\n",
    "    'upgrade-insecure-requests': '1',\n",
    "    'user-agent': 'Mozilla/5.0 (Macintosh; Intel Mac OS X 10_15_4) AppleWebKit/537.36 (KHTML, like Gecko) Chrome/86.0.4240.183 Safari/537.36',\n",
    "    'accept': 'text/html,application/xhtml+xml,application/xml;q=0.9,image/avif,image/webp,image/apng,*/*;q=0.8,application/signed-exchange;v=b3;q=0.9',\n",
    "    'sec-fetch-site': 'same-origin',\n",
    "    'sec-fetch-mode': 'navigate',\n",
    "    'sec-fetch-user': '?1',\n",
    "    'sec-fetch-dest': 'document',\n",
    "    'referer': 'https://www.amazon.com/Heat-Storm-HS-1500-PHX-WIFI-Infrared-Heater/dp/B07JXRWJ8D/ref=cm_cr_arp_d_pl_foot_top?ie=UTF8&th=1',\n",
    "    'accept-language': 'en-US,en;q=0.9,la;q=0.8',\n",
    "    'cookie': 'ubid-main=133-9061931-0297943; sid=\"u39jVVzRWP15jSjEJsTdwA==|9ucGRH1SUgtb9e1e982gkm5/DayNcyYRTYXgNPZNa+g=\"; x-main=\"mE3y@VSbrs7MHrVVNnP1GN@GVZOaUJqe\"; at-main=Atza|IwEBIEv12ButU1VeMnrsclL17GM9BJ-80JPgG6TYbBZbAXZckOoe9wa7IyBNlbjEK-8F1AIpcMN4VR2tIGeWA0vdJ4PpvJA1R0N5Qn0zMsC4B6Y4megebgi3Jvq2BJ1g0jZRL9j9iYhPHFSdTUesgv9Q7p_PRb4dNNjnfnUGDeVxZHaCdWr-Iqatk6j8KcKYkusa9mKmGsz-2x_KF6xgU6Nx7QFE2yxAbegk8SnGIFiys8r99A; sess-at-main=\"NNbbNBJIIdO6ZUsf30V6vNV2aj2QETHGwAkzG3gX4ZE=\"; sst-main=Sst1|PQE1PjQcFvrt9Y3KNw8yA3eLEIpcrmUeovHZU8z9TftQ5cSjvbwa41EIkU6fNZnswQN4ItbnsOHE1dW6jzxtQ5W5bIW0nVNoX1SqhosV1IFUTgrfEJwe91NBnbMk4QMpfHZzjnBCtuP1l57JiSOetaBnrD4WZxe2IlQpTxhK57-mFsDAyjjPTpdWIsZFwK9KLFywkHaoJvVh6onccpXzMt_dEhnmwr3OeBWfFPagGojOYGpcnso44cDXzkLBMph3j_EnVk0ms-t-HRbuo64GAJ0O-Gc0e6o3D4JVCIy3pd9tERCyOn9iggvsICLQ5NDuq3IPop8KSk3xevMVZoEEucCO11ml7yWYg_Yo9wAlBGqRX9C4697s9qyM_llnAG0nn1KGTS-2BGyGl_7W47MtvpGTCtRdTp9jIJMFiwFPjUQ6h9to0Hligj45NYrF0p1JtCsH; i18n-prefs=USD; lc-main=en_US; aws-ubid-main=176-3363682-5411304; aws-session-id=140-0883594-3508442; aws-session-id-time=2232452694l; aws-session-token=\"4AcXH13Lb7gLaLAbVWxzhrnUWw5VZWqZi720/Dto7jgpDRcELFSp5rdL/70JOV/CzC3Q7NX5fwXr1hOyO1SGinrTZ2/mJwX9JI22zhbAj64paG31aDmWkELeUqOO9jxn87nBCHKuubVjDeLMfQoBykloAFSaSt6E/K+EiIG2dMyk5aC6G1Icjvrl1bdKmSGt3a+v4I/vPmozdi8jzhcihQnIA5aY3o5i/8p+kzEfCSQ=\"; sess-aws-at-main=\"OAo44oXc4/XY6EgTI5DzZjccXmr3Pf10LEqvTiATPBk=\"; regStatus=registered; aws_lang=en; s_fid=54929DF7E2EC5594-1DEC0D72EFDC6854; s_vn=1633268724773%26vn%3D1; s_invisit=true; s_cc=true; aws-target-visitor-id=1601732725193-893467; aws-target-data=%7B%22support%22%3A%221%22%7D; aws-userInfo=%7B%22arn%22%3A%22arn%3Aaws%3Aiam%3A%3A231071709544%3Aroot%22%2C%22alias%22%3A%22%22%2C%22username%22%3A%22jeff%2520james%22%2C%22keybase%22%3A%22%22%2C%22issuer%22%3A%22https%3A%2F%2Fwww.amazon.com%2Fap%2Fsignin%22%2C%22signinType%22%3A%22PUBLIC%22%7D; skin=noskin; csd-key=eyJ2IjoxLCJraWQiOiIzZTQwMDciLCJrZXkiOiJFTGpoTmpBeGhmNjgvTGdKQVNuTDBUcWx0a2JYaHRQdkVLRTRienk0bmVUM2Jnd0pHTHVlUlBjYkxya0RQVVRWMlV1YWI5WWZBMkZXTG93c1BxUUNtM21BL2RCbitJVkVuSmhFZkRqY2JUWEQrTllWbGlQSkhDeU9QYkpKa0RkYmNQRWtvOXNZa0VzU3hOZXFEbkZkUkk4b3FzY0dNZUU3MWFEVHcrRlNFVCtZYmd3amc3V0YyNjBoK29qQ0p6cVhkRDJzUVJBeVFtNmJxZG1TdXkzS092YkRIM293amNseTZVa0tKeGYzLzE5enA4OG10VWM2UG53clVvelQxMzdSbVpkVnlsZisvbjdSTGI0WkUzbjMzWDlEL1lsbmxhK0duLytlaU9qTjMzQUd3NG1NRC9oOTc0dFlqdmFQWnJDT2xKTk1RNmFVY3FpTDhReWQ0TUxwVFE9PSJ9; session-id-apay=143-6467005-0669008; session-id-time=2082787201l; session-id=146-2689202-9572416; s_dslv_s=More%20than%2030%20days; s_depth=2; s_dslv=1606267728256; s_nr=1606267728265-Repeat; session-token=\"gg4ozkVpSmo/CMUdJGU4vWV1Ap01LEGeSpGlQkj7ZEa3VEBeb+7xCHNDf8DV2y2tr45chYDEFySwu8cJx7Y1FN6QdAhBjINCqmSudE2ms/C0+61bcVE1sGzdOXLfxh57MgpZuzU1Xi/z3o8TsWfewFly/Kl6Aq0tKSWEPXT08CejwjX16Neh+Q00ofyScckwc/Qv/Q0oYIUysh3th6kRYg==\"; csm-hit=tb:RP2649Z9F69V9KV5A8BV+sa-738Q8AECSK2TQNV33QMY-2WTAQEBB75E5T1SDK1R6|1606489267955&adb:adblk_yes&t:1606489267955',\n",
    "}\n"
   ]
  },
  {
   "cell_type": "code",
   "execution_count": 5,
   "metadata": {},
   "outputs": [],
   "source": [
    "resp = requests.get(pages[0], headers=headers)\n",
    "#resp.text"
   ]
  },
  {
   "cell_type": "code",
   "execution_count": 6,
   "metadata": {},
   "outputs": [],
   "source": [
    "soup = BeautifulSoup(resp.text, \"html.parser\") # html.parser, lxml"
   ]
  },
  {
   "cell_type": "code",
   "execution_count": 7,
   "metadata": {},
   "outputs": [],
   "source": [
    "# 10 divs\n",
    "reviews = soup.find_all(\"div\", {\"class\": \"a-section review aok-relative\"})"
   ]
  },
  {
   "cell_type": "code",
   "execution_count": 8,
   "metadata": {},
   "outputs": [],
   "source": [
    "def get_review_stars(soup_obj: BeautifulSoup) -> str:\n",
    "    try:\n",
    "        review_str = soup_obj.find('a', {\"class\": \"a-link-normal\"}).get_text()\n",
    "        return review_str\n",
    "    except Exception as e:\n",
    "        return 'no_stars'\n",
    "        print(e)"
   ]
  },
  {
   "cell_type": "code",
   "execution_count": 9,
   "metadata": {},
   "outputs": [],
   "source": [
    "def get_review_body(soup_obj: BeautifulSoup) -> str:\n",
    "    try:\n",
    "        review_body = soup_obj.find('span', \n",
    "            {\"class\": \"a-size-base review-text review-text-content\"}\n",
    "        ).get_text().strip()\n",
    "        return review_body\n",
    "    except Exception as e:\n",
    "        return 'no_body'\n",
    "        print(e)"
   ]
  },
  {
   "cell_type": "code",
   "execution_count": 10,
   "metadata": {},
   "outputs": [],
   "source": [
    "def get_review_date(soup_obj: BeautifulSoup) -> str:\n",
    "    try:\n",
    "        review_date = soup_obj.find('span', \n",
    "            {\"class\": \"a-size-base a-color-secondary review-date\"}\n",
    "        ).get_text().strip()\n",
    "        return review_date\n",
    "    except Exception as e:\n",
    "        return 'no_date'\n",
    "        print(e)"
   ]
  },
  {
   "cell_type": "code",
   "execution_count": 11,
   "metadata": {},
   "outputs": [],
   "source": [
    "def get_review_components(soup_obj: BeautifulSoup) -> dict:\n",
    "    return {\n",
    "        'stars': get_review_stars(soup_obj) , \n",
    "        'body': get_review_body(soup_obj), \n",
    "        'date': get_review_date(soup_obj)\n",
    "    }"
   ]
  },
  {
   "cell_type": "code",
   "execution_count": 16,
   "metadata": {},
   "outputs": [],
   "source": [
    "records = [get_review_components(rev) for rev in reviews]\n",
    "df = pd.DataFrame.from_records(records)\n",
    "df.to_csv('amazon_reviews.csv')"
   ]
  },
  {
   "cell_type": "code",
   "execution_count": 17,
   "metadata": {},
   "outputs": [
    {
     "name": "stdout",
     "output_type": "stream",
     "text": [
      "https://www.amazon.com/Thick-Instant-Beverage-Thickener-Original/product-reviews/B00FBP39PC/ref=cm_cr_dp_d_show_all_btm?ie=UTF8&reviewerType=all_reviews\n",
      "https://www.amazon.com/Thick-Instant-Beverage-Thickener-Original/product-reviews/B00FBP39PC/ref=cm_cr_arp_d_paging_btm_next_2?ie=UTF8&reviewerType=all_reviews&pageNumber=2\n",
      "https://www.amazon.com/Thick-Instant-Beverage-Thickener-Original/product-reviews/B00FBP39PC/ref=cm_cr_arp_d_paging_btm_next_2?ie=UTF8&reviewerType=all_reviews&pageNumber=3\n"
     ]
    },
    {
     "data": {
      "text/html": [
       "<div>\n",
       "<style scoped>\n",
       "    .dataframe tbody tr th:only-of-type {\n",
       "        vertical-align: middle;\n",
       "    }\n",
       "\n",
       "    .dataframe tbody tr th {\n",
       "        vertical-align: top;\n",
       "    }\n",
       "\n",
       "    .dataframe thead th {\n",
       "        text-align: right;\n",
       "    }\n",
       "</style>\n",
       "<table border=\"1\" class=\"dataframe\">\n",
       "  <thead>\n",
       "    <tr style=\"text-align: right;\">\n",
       "      <th></th>\n",
       "      <th>stars</th>\n",
       "      <th>body</th>\n",
       "      <th>date</th>\n",
       "    </tr>\n",
       "  </thead>\n",
       "  <tbody>\n",
       "    <tr>\n",
       "      <th>0</th>\n",
       "      <td>5.0 out of 5 stars</td>\n",
       "      <td>The more expensive gel thickeners do not keep ...</td>\n",
       "      <td>Reviewed in the United States on January 1, 2021</td>\n",
       "    </tr>\n",
       "    <tr>\n",
       "      <th>1</th>\n",
       "      <td>5.0 out of 5 stars</td>\n",
       "      <td>After my 42 year old husband suffered a stroke...</td>\n",
       "      <td>Reviewed in the United States on December 18, ...</td>\n",
       "    </tr>\n",
       "    <tr>\n",
       "      <th>2</th>\n",
       "      <td>5.0 out of 5 stars</td>\n",
       "      <td>\"Thickness\" may be misleading, you have comple...</td>\n",
       "      <td>Reviewed in the United States on January 15, 2021</td>\n",
       "    </tr>\n",
       "    <tr>\n",
       "      <th>3</th>\n",
       "      <td>5.0 out of 5 stars</td>\n",
       "      <td>My wife has Alzhimers and cannot drink liquids...</td>\n",
       "      <td>Reviewed in the United States on February 26, ...</td>\n",
       "    </tr>\n",
       "    <tr>\n",
       "      <th>4</th>\n",
       "      <td>5.0 out of 5 stars</td>\n",
       "      <td>Great thickening product for those that can on...</td>\n",
       "      <td>Reviewed in the United States on January 24, 2021</td>\n",
       "    </tr>\n",
       "  </tbody>\n",
       "</table>\n",
       "</div>"
      ],
      "text/plain": [
       "                stars                                               body  \\\n",
       "0  5.0 out of 5 stars  The more expensive gel thickeners do not keep ...   \n",
       "1  5.0 out of 5 stars  After my 42 year old husband suffered a stroke...   \n",
       "2  5.0 out of 5 stars  \"Thickness\" may be misleading, you have comple...   \n",
       "3  5.0 out of 5 stars  My wife has Alzhimers and cannot drink liquids...   \n",
       "4  5.0 out of 5 stars  Great thickening product for those that can on...   \n",
       "\n",
       "                                                date  \n",
       "0   Reviewed in the United States on January 1, 2021  \n",
       "1  Reviewed in the United States on December 18, ...  \n",
       "2  Reviewed in the United States on January 15, 2021  \n",
       "3  Reviewed in the United States on February 26, ...  \n",
       "4  Reviewed in the United States on January 24, 2021  "
      ]
     },
     "execution_count": 17,
     "metadata": {},
     "output_type": "execute_result"
    }
   ],
   "source": [
    "ALL_REVIEWS = []\n",
    "\n",
    "for u in pages:\n",
    "    print(u)\n",
    "    resp = requests.get(u, headers=headers)\n",
    "    soup = BeautifulSoup(resp.text, \"html.parser\")\n",
    "    reviews = soup.find_all(\"div\", {\"class\": \"a-section review aok-relative\"})\n",
    "    records = [get_review_components(rev) for rev in reviews]\n",
    "    ALL_REVIEWS.extend(records) \n",
    "    \n",
    "    \n",
    "out = pd.DataFrame.from_records(ALL_REVIEWS)\n",
    "out.head()"
   ]
  },
  {
   "cell_type": "code",
   "execution_count": 18,
   "metadata": {},
   "outputs": [],
   "source": [
    "from datetime import datetime"
   ]
  },
  {
   "cell_type": "code",
   "execution_count": 19,
   "metadata": {},
   "outputs": [],
   "source": [
    "save_name = f\"{datetime.now().strftime('%Y-%m-%d-%m')}.csv\"\n",
    "out.to_csv(save_name)"
   ]
  },
  {
   "cell_type": "code",
   "execution_count": 20,
   "metadata": {},
   "outputs": [
    {
     "name": "stdout",
     "output_type": "stream",
     "text": [
      "2021-09-24-09.csv\r\n",
      "amazon_reviews.csv\r\n"
     ]
    }
   ],
   "source": [
    "%ls | grep .csv"
   ]
  },
  {
   "cell_type": "code",
   "execution_count": 121,
   "metadata": {},
   "outputs": [],
   "source": [
    "# Keyword Mining from Amazon Internal Search\n",
    "from typing import Dict, List\n",
    "\n",
    "def scrape_amazon_autocomplete(query: str) -> List[Dict]:\n",
    "    API = f\"https://completion.amazon.com/api/2017/suggestions?session-id=146-2689202-9572416&customer-id=ABFEO96HMJKJ9&request-id=2Y8N0ZY2MBDGD78YCSVH&page-type=Gateway&lop=en_US&site-variant=desktop&client-info=amazon-search-ui&mid=ATVPDKIKX0DER&alias=aps&b2b=0&fresh=0&ks=82&prefix={query}&event=onKeyPress&limit=11&fb=1&suggestion-type=KEYWORD&suggestion-type=WIDGET&_=1606503962282\"\n",
    "    json_resp = requests.get(API, headers=headers).json()\n",
    "    return json_resp['suggestions']"
   ]
  },
  {
   "cell_type": "code",
   "execution_count": 123,
   "metadata": {},
   "outputs": [
    {
     "data": {
      "text/html": [
       "<div>\n",
       "<style scoped>\n",
       "    .dataframe tbody tr th:only-of-type {\n",
       "        vertical-align: middle;\n",
       "    }\n",
       "\n",
       "    .dataframe tbody tr th {\n",
       "        vertical-align: top;\n",
       "    }\n",
       "\n",
       "    .dataframe thead th {\n",
       "        text-align: right;\n",
       "    }\n",
       "</style>\n",
       "<table border=\"1\" class=\"dataframe\">\n",
       "  <thead>\n",
       "    <tr style=\"text-align: right;\">\n",
       "      <th></th>\n",
       "      <th>suggType</th>\n",
       "      <th>type</th>\n",
       "      <th>value</th>\n",
       "      <th>refTag</th>\n",
       "      <th>strategyId</th>\n",
       "      <th>ghost</th>\n",
       "      <th>help</th>\n",
       "      <th>blackListed</th>\n",
       "      <th>xcatOnly</th>\n",
       "      <th>spellCorrected</th>\n",
       "      <th>fallback</th>\n",
       "    </tr>\n",
       "  </thead>\n",
       "  <tbody>\n",
       "    <tr>\n",
       "      <th>0</th>\n",
       "      <td>KeywordSuggestion</td>\n",
       "      <td>KEYWORD</td>\n",
       "      <td>dog friendly ice melt</td>\n",
       "      <td>nb_sb_ss_ts-a-p_1_12</td>\n",
       "      <td>ts-a-p</td>\n",
       "      <td>False</td>\n",
       "      <td>False</td>\n",
       "      <td>False</td>\n",
       "      <td>False</td>\n",
       "      <td>False</td>\n",
       "      <td>False</td>\n",
       "    </tr>\n",
       "    <tr>\n",
       "      <th>1</th>\n",
       "      <td>KeywordSuggestion</td>\n",
       "      <td>KEYWORD</td>\n",
       "      <td>dog friendly rugs</td>\n",
       "      <td>nb_sb_ss_ts-a-p_2_12</td>\n",
       "      <td>ts-a-p</td>\n",
       "      <td>False</td>\n",
       "      <td>False</td>\n",
       "      <td>False</td>\n",
       "      <td>False</td>\n",
       "      <td>False</td>\n",
       "      <td>False</td>\n",
       "    </tr>\n",
       "    <tr>\n",
       "      <th>2</th>\n",
       "      <td>KeywordSuggestion</td>\n",
       "      <td>KEYWORD</td>\n",
       "      <td>dog friendly salt</td>\n",
       "      <td>nb_sb_ss_ts-a-p_3_12</td>\n",
       "      <td>ts-a-p</td>\n",
       "      <td>False</td>\n",
       "      <td>False</td>\n",
       "      <td>False</td>\n",
       "      <td>False</td>\n",
       "      <td>False</td>\n",
       "      <td>False</td>\n",
       "    </tr>\n",
       "    <tr>\n",
       "      <th>3</th>\n",
       "      <td>KeywordSuggestion</td>\n",
       "      <td>KEYWORD</td>\n",
       "      <td>dog friendly rugs for living room</td>\n",
       "      <td>nb_sb_ss_ts-a-p_4_12</td>\n",
       "      <td>ts-a-p</td>\n",
       "      <td>False</td>\n",
       "      <td>False</td>\n",
       "      <td>False</td>\n",
       "      <td>False</td>\n",
       "      <td>False</td>\n",
       "      <td>False</td>\n",
       "    </tr>\n",
       "    <tr>\n",
       "      <th>4</th>\n",
       "      <td>KeywordSuggestion</td>\n",
       "      <td>KEYWORD</td>\n",
       "      <td>dog friendly mouse traps</td>\n",
       "      <td>nb_sb_ss_ts-a-p_5_12</td>\n",
       "      <td>ts-a-p</td>\n",
       "      <td>False</td>\n",
       "      <td>False</td>\n",
       "      <td>False</td>\n",
       "      <td>False</td>\n",
       "      <td>False</td>\n",
       "      <td>False</td>\n",
       "    </tr>\n",
       "  </tbody>\n",
       "</table>\n",
       "</div>"
      ],
      "text/plain": [
       "            suggType     type                              value  \\\n",
       "0  KeywordSuggestion  KEYWORD              dog friendly ice melt   \n",
       "1  KeywordSuggestion  KEYWORD                  dog friendly rugs   \n",
       "2  KeywordSuggestion  KEYWORD                  dog friendly salt   \n",
       "3  KeywordSuggestion  KEYWORD  dog friendly rugs for living room   \n",
       "4  KeywordSuggestion  KEYWORD           dog friendly mouse traps   \n",
       "\n",
       "                 refTag strategyId  ghost   help  blackListed  xcatOnly  \\\n",
       "0  nb_sb_ss_ts-a-p_1_12     ts-a-p  False  False        False     False   \n",
       "1  nb_sb_ss_ts-a-p_2_12     ts-a-p  False  False        False     False   \n",
       "2  nb_sb_ss_ts-a-p_3_12     ts-a-p  False  False        False     False   \n",
       "3  nb_sb_ss_ts-a-p_4_12     ts-a-p  False  False        False     False   \n",
       "4  nb_sb_ss_ts-a-p_5_12     ts-a-p  False  False        False     False   \n",
       "\n",
       "   spellCorrected  fallback  \n",
       "0           False     False  \n",
       "1           False     False  \n",
       "2           False     False  \n",
       "3           False     False  \n",
       "4           False     False  "
      ]
     },
     "execution_count": 123,
     "metadata": {},
     "output_type": "execute_result"
    }
   ],
   "source": [
    "records = scrape_amazon_autocomplete('dog friendly')\n",
    "df = pd.DataFrame.from_records(records)\n",
    "df['query_level_queries'] = df['value'].map()\n",
    "df.head()"
   ]
  },
  {
   "cell_type": "code",
   "execution_count": 130,
   "metadata": {},
   "outputs": [],
   "source": [
    "df['child_queries'] = df['value'].map(\n",
    "                    lambda x: [j.get('value') for j in \n",
    "                           scrape_amazon_autocomplete(x)]\n",
    "               )"
   ]
  },
  {
   "cell_type": "code",
   "execution_count": 143,
   "metadata": {},
   "outputs": [
    {
     "data": {
      "text/plain": [
       "list"
      ]
     },
     "execution_count": 143,
     "metadata": {},
     "output_type": "execute_result"
    }
   ],
   "source": [
    "type(df[['value', 'child_queries']].iloc[0].child_queries)"
   ]
  },
  {
   "cell_type": "code",
   "execution_count": 139,
   "metadata": {},
   "outputs": [],
   "source": [
    "with open('output_file.txt', 'w') as f:\n",
    "    for index, row in df.iterrows():\n",
    "        for next_row in row['child_queries']:\n",
    "            f.write(f\"{row['value']} --> {next_row}\\n\")"
   ]
  },
  {
   "cell_type": "code",
   "execution_count": 140,
   "metadata": {},
   "outputs": [
    {
     "name": "stdout",
     "output_type": "stream",
     "text": [
      "dog friendly ice melt --> dog friendly ice melt\r\n",
      "dog friendly rugs --> dog friendly rugs for living room\r\n",
      "dog friendly rugs --> dog friendly rugs for living room\r\n",
      "dog friendly rugs --> dog friendly rugs round\r\n",
      "dog friendly rugs --> dog friendly rugs\r\n",
      "dog friendly rugs --> dog friendly rugs for living room washable\r\n",
      "dog friendly rugs --> dog friendly rugs for front door\r\n",
      "dog friendly salt --> dog friendly salt\r\n",
      "dog friendly salt --> dog friendly salt\r\n",
      "dog friendly rugs for living room --> dog friendly rugs for living room\r\n",
      "dog friendly rugs for living room --> dog friendly rugs for living room\r\n",
      "dog friendly rugs for living room --> dog friendly rugs for living room washable\r\n",
      "dog friendly mouse traps --> dog friendly mouse traps\r\n",
      "dog friendly peanut butter --> dog friendly peanut butter\r\n",
      "dog friendly peanut butter --> dog friendly peanut butter\r\n",
      "dog friendly dog training by andrea arden --> dog friendly dog training by andrea arden\r\n",
      "dog friendly dog training by andrea arden --> dog friendly dog training by andrea arden\r\n",
      "dog friendly cake mix --> dog friendly cake mix\r\n",
      "dog friendly cake mix --> dog friendly cake mix\r\n",
      "dog friendly paint --> dog friendly paint\r\n",
      "dog friendly paint --> dog friendly paint for paw prints\r\n",
      "dog friendly paint --> dog friendly paint green\r\n",
      "dog friendly paint --> dog friendly paint black\r\n",
      "dog friendly paint --> dog friendly paint white\r\n",
      "dog friendly paint --> dog friendly paint for fur\r\n",
      "dog friendly paint --> dog friendly paint spray\r\n",
      "dog friendly carpet --> dog friendly carpet\r\n",
      "dog friendly carpet --> dog friendly carpet cleaner\r\n",
      "dog friendly carpet --> dog friendly carpet shampoo\r\n"
     ]
    }
   ],
   "source": [
    "!cat output_file.txt"
   ]
  },
  {
   "cell_type": "code",
   "execution_count": null,
   "metadata": {
    "collapsed": true
   },
   "outputs": [],
   "source": []
  }
 ],
 "metadata": {
  "anaconda-cloud": {},
  "kernelspec": {
   "display_name": "Python 3",
   "language": "python",
   "name": "python3"
  },
  "language_info": {
   "codemirror_mode": {
    "name": "ipython",
    "version": 3
   },
   "file_extension": ".py",
   "mimetype": "text/x-python",
   "name": "python",
   "nbconvert_exporter": "python",
   "pygments_lexer": "ipython3",
   "version": "3.8.5"
  }
 },
 "nbformat": 4,
 "nbformat_minor": 1
}
