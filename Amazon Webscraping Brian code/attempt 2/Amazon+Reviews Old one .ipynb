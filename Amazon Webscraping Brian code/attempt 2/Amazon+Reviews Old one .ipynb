{
 "cells": [
  {
   "cell_type": "code",
   "execution_count": 114,
   "metadata": {},
   "outputs": [],
   "source": [
    "import pandas as pd\n",
    "import requests\n",
    "from bs4 import BeautifulSoup"
   ]
  },
  {
   "cell_type": "code",
   "execution_count": 115,
   "metadata": {},
   "outputs": [],
   "source": [
    "#pages = [\n",
    "#    \"https://www.amazon.com/Thick-Instant-Beverage-Thickener-Original/product-reviews/B00FBP39PC/ref=cm_cr_dp_d_show_all_btm?ie=UTF8&reviewerType=all_reviews\",\n",
    "#    \"https://www.amazon.com/Thick-Instant-Beverage-Thickener-Original/product-reviews/B00FBP39PC/ref=cm_cr_dp_d_show_all_btm?ie=UTF8&reviewerType=all_reviews&pageNumber=2\",\n",
    "#    \"https://www.amazon.com/Thick-Instant-Beverage-Thickener-Original/product-reviews/B00FBP39PC/ref=cm_cr_dp_d_show_all_btm?ie=UTF8&reviewerType=all_reviews&pageNumber=3\"\n",
    "#]\n",
    "    \n",
    "headers = {\n",
    "    'authority': 'www.amazon.com',\n",
    "    'pragma': 'no-cache',\n",
    "    'cache-control': 'no-cache',\n",
    "    'rtt': '50',\n",
    "    'downlink': '6.65',\n",
    "    'ect': '4g',\n",
    "    'upgrade-insecure-requests': '1',\n",
    "    'user-agent': 'Mozilla/5.0 (Macintosh; Intel Mac OS X 10_15_4) AppleWebKit/537.36 (KHTML, like Gecko) Chrome/86.0.4240.183 Safari/537.36',\n",
    "    'accept': 'text/html,application/xhtml+xml,application/xml;q=0.9,image/avif,image/webp,image/apng,*/*;q=0.8,application/signed-exchange;v=b3;q=0.9',\n",
    "    'sec-fetch-site': 'same-origin',\n",
    "    'sec-fetch-mode': 'navigate',\n",
    "    'sec-fetch-user': '?1',\n",
    "    'sec-fetch-dest': 'document',\n",
    "    'referer': 'https://www.amazon.com/Heat-Storm-HS-1500-PHX-WIFI-Infrared-Heater/dp/B07JXRWJ8D/ref=cm_cr_arp_d_pl_foot_top?ie=UTF8&th=1',\n",
    "    'accept-language': 'en-US,en;q=0.9,la;q=0.8',\n",
    "    'cookie': 'ubid-main=133-9061931-0297943; sid=\"u39jVVzRWP15jSjEJsTdwA==|9ucGRH1SUgtb9e1e982gkm5/DayNcyYRTYXgNPZNa+g=\"; x-main=\"mE3y@VSbrs7MHrVVNnP1GN@GVZOaUJqe\"; at-main=Atza|IwEBIEv12ButU1VeMnrsclL17GM9BJ-80JPgG6TYbBZbAXZckOoe9wa7IyBNlbjEK-8F1AIpcMN4VR2tIGeWA0vdJ4PpvJA1R0N5Qn0zMsC4B6Y4megebgi3Jvq2BJ1g0jZRL9j9iYhPHFSdTUesgv9Q7p_PRb4dNNjnfnUGDeVxZHaCdWr-Iqatk6j8KcKYkusa9mKmGsz-2x_KF6xgU6Nx7QFE2yxAbegk8SnGIFiys8r99A; sess-at-main=\"NNbbNBJIIdO6ZUsf30V6vNV2aj2QETHGwAkzG3gX4ZE=\"; sst-main=Sst1|PQE1PjQcFvrt9Y3KNw8yA3eLEIpcrmUeovHZU8z9TftQ5cSjvbwa41EIkU6fNZnswQN4ItbnsOHE1dW6jzxtQ5W5bIW0nVNoX1SqhosV1IFUTgrfEJwe91NBnbMk4QMpfHZzjnBCtuP1l57JiSOetaBnrD4WZxe2IlQpTxhK57-mFsDAyjjPTpdWIsZFwK9KLFywkHaoJvVh6onccpXzMt_dEhnmwr3OeBWfFPagGojOYGpcnso44cDXzkLBMph3j_EnVk0ms-t-HRbuo64GAJ0O-Gc0e6o3D4JVCIy3pd9tERCyOn9iggvsICLQ5NDuq3IPop8KSk3xevMVZoEEucCO11ml7yWYg_Yo9wAlBGqRX9C4697s9qyM_llnAG0nn1KGTS-2BGyGl_7W47MtvpGTCtRdTp9jIJMFiwFPjUQ6h9to0Hligj45NYrF0p1JtCsH; i18n-prefs=USD; lc-main=en_US; aws-ubid-main=176-3363682-5411304; aws-session-id=140-0883594-3508442; aws-session-id-time=2232452694l; aws-session-token=\"4AcXH13Lb7gLaLAbVWxzhrnUWw5VZWqZi720/Dto7jgpDRcELFSp5rdL/70JOV/CzC3Q7NX5fwXr1hOyO1SGinrTZ2/mJwX9JI22zhbAj64paG31aDmWkELeUqOO9jxn87nBCHKuubVjDeLMfQoBykloAFSaSt6E/K+EiIG2dMyk5aC6G1Icjvrl1bdKmSGt3a+v4I/vPmozdi8jzhcihQnIA5aY3o5i/8p+kzEfCSQ=\"; sess-aws-at-main=\"OAo44oXc4/XY6EgTI5DzZjccXmr3Pf10LEqvTiATPBk=\"; regStatus=registered; aws_lang=en; s_fid=54929DF7E2EC5594-1DEC0D72EFDC6854; s_vn=1633268724773%26vn%3D1; s_invisit=true; s_cc=true; aws-target-visitor-id=1601732725193-893467; aws-target-data=%7B%22support%22%3A%221%22%7D; aws-userInfo=%7B%22arn%22%3A%22arn%3Aaws%3Aiam%3A%3A231071709544%3Aroot%22%2C%22alias%22%3A%22%22%2C%22username%22%3A%22jeff%2520james%22%2C%22keybase%22%3A%22%22%2C%22issuer%22%3A%22https%3A%2F%2Fwww.amazon.com%2Fap%2Fsignin%22%2C%22signinType%22%3A%22PUBLIC%22%7D; skin=noskin; csd-key=eyJ2IjoxLCJraWQiOiIzZTQwMDciLCJrZXkiOiJFTGpoTmpBeGhmNjgvTGdKQVNuTDBUcWx0a2JYaHRQdkVLRTRienk0bmVUM2Jnd0pHTHVlUlBjYkxya0RQVVRWMlV1YWI5WWZBMkZXTG93c1BxUUNtM21BL2RCbitJVkVuSmhFZkRqY2JUWEQrTllWbGlQSkhDeU9QYkpKa0RkYmNQRWtvOXNZa0VzU3hOZXFEbkZkUkk4b3FzY0dNZUU3MWFEVHcrRlNFVCtZYmd3amc3V0YyNjBoK29qQ0p6cVhkRDJzUVJBeVFtNmJxZG1TdXkzS092YkRIM293amNseTZVa0tKeGYzLzE5enA4OG10VWM2UG53clVvelQxMzdSbVpkVnlsZisvbjdSTGI0WkUzbjMzWDlEL1lsbmxhK0duLytlaU9qTjMzQUd3NG1NRC9oOTc0dFlqdmFQWnJDT2xKTk1RNmFVY3FpTDhReWQ0TUxwVFE9PSJ9; session-id-apay=143-6467005-0669008; session-id-time=2082787201l; session-id=146-2689202-9572416; s_dslv_s=More%20than%2030%20days; s_depth=2; s_dslv=1606267728256; s_nr=1606267728265-Repeat; session-token=\"gg4ozkVpSmo/CMUdJGU4vWV1Ap01LEGeSpGlQkj7ZEa3VEBeb+7xCHNDf8DV2y2tr45chYDEFySwu8cJx7Y1FN6QdAhBjINCqmSudE2ms/C0+61bcVE1sGzdOXLfxh57MgpZuzU1Xi/z3o8TsWfewFly/Kl6Aq0tKSWEPXT08CejwjX16Neh+Q00ofyScckwc/Qv/Q0oYIUysh3th6kRYg==\"; csm-hit=tb:RP2649Z9F69V9KV5A8BV+sa-738Q8AECSK2TQNV33QMY-2WTAQEBB75E5T1SDK1R6|1606489267955&adb:adblk_yes&t:1606489267955',\n",
    "}\n"
   ]
  },
  {
   "cell_type": "code",
   "execution_count": 116,
   "metadata": {},
   "outputs": [],
   "source": [
    "resp = requests.get(pages[0], headers=headers)\n",
    "#resp.text"
   ]
  },
  {
   "cell_type": "code",
   "execution_count": 117,
   "metadata": {},
   "outputs": [],
   "source": [
    "soup = BeautifulSoup(resp.text, \"html.parser\") # html.parser, lxml"
   ]
  },
  {
   "cell_type": "code",
   "execution_count": 118,
   "metadata": {},
   "outputs": [],
   "source": [
    "# 10 divs\n",
    "reviews = soup.find_all(\"div\", {\"class\": \"a-section review aok-relative\"})"
   ]
  },
  {
   "cell_type": "code",
   "execution_count": 119,
   "metadata": {},
   "outputs": [],
   "source": [
    "def get_review_stars(soup_obj: BeautifulSoup) -> str:\n",
    "    try:\n",
    "        review_str = soup_obj.find('a', {\"class\": \"a-link-normal\"}).get_text()\n",
    "        return review_str[0] #modified to only return the first character (number 1-5)\n",
    "    except Exception as e:\n",
    "        return 'no_stars'\n",
    "        print(e)"
   ]
  },
  {
   "cell_type": "code",
   "execution_count": 120,
   "metadata": {},
   "outputs": [],
   "source": [
    "def get_review_body(soup_obj: BeautifulSoup) -> str:\n",
    "    try:\n",
    "        review_body = soup_obj.find('span', \n",
    "            {\"class\": \"a-size-base review-text review-text-content\"}\n",
    "        ).get_text().strip()\n",
    "        return review_body\n",
    "    except Exception as e:\n",
    "        return 'no_body'\n",
    "        print(e)"
   ]
  },
  {
   "cell_type": "code",
   "execution_count": 121,
   "metadata": {},
   "outputs": [],
   "source": [
    "def get_review_date(soup_obj: BeautifulSoup) -> str:\n",
    "    try:\n",
    "        review_date = soup_obj.find('span', \n",
    "            {\"class\": \"a-size-base a-color-secondary review-date\"}\n",
    "        ).get_text().strip()\n",
    "        return review_date\n",
    "    except Exception as e:\n",
    "        return 'no_date'\n",
    "        print(e)"
   ]
  },
  {
   "cell_type": "code",
   "execution_count": 122,
   "metadata": {},
   "outputs": [],
   "source": [
    "def get_title(soup_obj: BeautifulSoup) -> str: \n",
    "    try: \n",
    "        review_title = soup_obj.find('span', \n",
    "            {\"class\": \"a-size-base a-link-normal review-title a-color-base review-title-content a-text-bold\"}\n",
    "        ).get_text().strip()\n",
    "        \n",
    "        #print(soup_obj.find('span', \n",
    "        #    {\"class\": \"a-size-base a-link-normal review-title\"}).get_text().strip())\n",
    "        return review_title\n",
    "    except Exception as e:\n",
    "        return 'no_title'\n",
    "        print(e)"
   ]
  },
  {
   "cell_type": "code",
   "execution_count": 123,
   "metadata": {},
   "outputs": [],
   "source": [
    "def get_review_components(soup_obj: BeautifulSoup) -> dict:\n",
    "    return {\n",
    "        'stars': get_review_stars(soup_obj) , \n",
    "        'title': get_title(soup_obj),\n",
    "        'body': get_review_body(soup_obj), \n",
    "        'date': get_review_date(soup_obj)\n",
    "    }"
   ]
  },
  {
   "cell_type": "code",
   "execution_count": 124,
   "metadata": {},
   "outputs": [],
   "source": [
    "records = [get_review_components(rev) for rev in reviews]\n",
    "df = pd.DataFrame.from_records(records)\n",
    "df.to_csv('amazon_reviews.csv')"
   ]
  },
  {
   "cell_type": "code",
   "execution_count": 128,
   "metadata": {},
   "outputs": [
    {
     "name": "stdout",
     "output_type": "stream",
     "text": [
      "https://www.amazon.com/Thick-It-RD26929208-36-OZ/product-reviews/B0011TUM3E/ref=cm_cr_arp_d_viewopt_rvwer?ie=UTF8&reviewerType=all_reviews&pageNumber=44\n",
      "https://www.amazon.com/Thick-It-RD26929208-36-OZ/product-reviews/B0011TUM3E/ref=cm_cr_arp_d_viewopt_rvwer?ie=UTF8&reviewerType=all_reviews&pageNumber=43\n",
      "https://www.amazon.com/Thick-It-RD26929208-36-OZ/product-reviews/B0011TUM3E/ref=cm_cr_arp_d_viewopt_rvwer?ie=UTF8&reviewerType=all_reviews&pageNumber=42\n",
      "https://www.amazon.com/Thick-It-RD26929208-36-OZ/product-reviews/B0011TUM3E/ref=cm_cr_arp_d_viewopt_rvwer?ie=UTF8&reviewerType=all_reviews&pageNumber=41\n",
      "https://www.amazon.com/Thick-It-RD26929208-36-OZ/product-reviews/B0011TUM3E/ref=cm_cr_arp_d_viewopt_rvwer?ie=UTF8&reviewerType=all_reviews&pageNumber=40\n",
      "https://www.amazon.com/Thick-It-RD26929208-36-OZ/product-reviews/B0011TUM3E/ref=cm_cr_arp_d_viewopt_rvwer?ie=UTF8&reviewerType=all_reviews&pageNumber=39\n",
      "https://www.amazon.com/Thick-It-RD26929208-36-OZ/product-reviews/B0011TUM3E/ref=cm_cr_arp_d_viewopt_rvwer?ie=UTF8&reviewerType=all_reviews&pageNumber=38\n",
      "https://www.amazon.com/Thick-It-RD26929208-36-OZ/product-reviews/B0011TUM3E/ref=cm_cr_arp_d_viewopt_rvwer?ie=UTF8&reviewerType=all_reviews&pageNumber=37\n",
      "https://www.amazon.com/Thick-It-RD26929208-36-OZ/product-reviews/B0011TUM3E/ref=cm_cr_arp_d_viewopt_rvwer?ie=UTF8&reviewerType=all_reviews&pageNumber=36\n",
      "https://www.amazon.com/Thick-It-RD26929208-36-OZ/product-reviews/B0011TUM3E/ref=cm_cr_arp_d_viewopt_rvwer?ie=UTF8&reviewerType=all_reviews&pageNumber=35\n",
      "https://www.amazon.com/Thick-It-RD26929208-36-OZ/product-reviews/B0011TUM3E/ref=cm_cr_arp_d_viewopt_rvwer?ie=UTF8&reviewerType=all_reviews&pageNumber=34\n",
      "https://www.amazon.com/Thick-It-RD26929208-36-OZ/product-reviews/B0011TUM3E/ref=cm_cr_arp_d_viewopt_rvwer?ie=UTF8&reviewerType=all_reviews&pageNumber=33\n",
      "https://www.amazon.com/Thick-It-RD26929208-36-OZ/product-reviews/B0011TUM3E/ref=cm_cr_arp_d_viewopt_rvwer?ie=UTF8&reviewerType=all_reviews&pageNumber=32\n",
      "https://www.amazon.com/Thick-It-RD26929208-36-OZ/product-reviews/B0011TUM3E/ref=cm_cr_arp_d_viewopt_rvwer?ie=UTF8&reviewerType=all_reviews&pageNumber=31\n",
      "https://www.amazon.com/Thick-It-RD26929208-36-OZ/product-reviews/B0011TUM3E/ref=cm_cr_arp_d_viewopt_rvwer?ie=UTF8&reviewerType=all_reviews&pageNumber=30\n",
      "https://www.amazon.com/Thick-It-RD26929208-36-OZ/product-reviews/B0011TUM3E/ref=cm_cr_arp_d_viewopt_rvwer?ie=UTF8&reviewerType=all_reviews&pageNumber=29\n",
      "https://www.amazon.com/Thick-It-RD26929208-36-OZ/product-reviews/B0011TUM3E/ref=cm_cr_arp_d_viewopt_rvwer?ie=UTF8&reviewerType=all_reviews&pageNumber=28\n",
      "https://www.amazon.com/Thick-It-RD26929208-36-OZ/product-reviews/B0011TUM3E/ref=cm_cr_arp_d_viewopt_rvwer?ie=UTF8&reviewerType=all_reviews&pageNumber=27\n",
      "https://www.amazon.com/Thick-It-RD26929208-36-OZ/product-reviews/B0011TUM3E/ref=cm_cr_arp_d_viewopt_rvwer?ie=UTF8&reviewerType=all_reviews&pageNumber=26\n",
      "https://www.amazon.com/Thick-It-RD26929208-36-OZ/product-reviews/B0011TUM3E/ref=cm_cr_arp_d_viewopt_rvwer?ie=UTF8&reviewerType=all_reviews&pageNumber=25\n",
      "https://www.amazon.com/Thick-It-RD26929208-36-OZ/product-reviews/B0011TUM3E/ref=cm_cr_arp_d_viewopt_rvwer?ie=UTF8&reviewerType=all_reviews&pageNumber=24\n",
      "https://www.amazon.com/Thick-It-RD26929208-36-OZ/product-reviews/B0011TUM3E/ref=cm_cr_arp_d_viewopt_rvwer?ie=UTF8&reviewerType=all_reviews&pageNumber=23\n",
      "https://www.amazon.com/Thick-It-RD26929208-36-OZ/product-reviews/B0011TUM3E/ref=cm_cr_arp_d_viewopt_rvwer?ie=UTF8&reviewerType=all_reviews&pageNumber=22\n",
      "https://www.amazon.com/Thick-It-RD26929208-36-OZ/product-reviews/B0011TUM3E/ref=cm_cr_arp_d_viewopt_rvwer?ie=UTF8&reviewerType=all_reviews&pageNumber=21\n",
      "https://www.amazon.com/Thick-It-RD26929208-36-OZ/product-reviews/B0011TUM3E/ref=cm_cr_arp_d_viewopt_rvwer?ie=UTF8&reviewerType=all_reviews&pageNumber=20\n",
      "https://www.amazon.com/Thick-It-RD26929208-36-OZ/product-reviews/B0011TUM3E/ref=cm_cr_arp_d_viewopt_rvwer?ie=UTF8&reviewerType=all_reviews&pageNumber=19\n",
      "https://www.amazon.com/Thick-It-RD26929208-36-OZ/product-reviews/B0011TUM3E/ref=cm_cr_arp_d_viewopt_rvwer?ie=UTF8&reviewerType=all_reviews&pageNumber=18\n",
      "https://www.amazon.com/Thick-It-RD26929208-36-OZ/product-reviews/B0011TUM3E/ref=cm_cr_arp_d_viewopt_rvwer?ie=UTF8&reviewerType=all_reviews&pageNumber=17\n",
      "https://www.amazon.com/Thick-It-RD26929208-36-OZ/product-reviews/B0011TUM3E/ref=cm_cr_arp_d_viewopt_rvwer?ie=UTF8&reviewerType=all_reviews&pageNumber=16\n",
      "https://www.amazon.com/Thick-It-RD26929208-36-OZ/product-reviews/B0011TUM3E/ref=cm_cr_arp_d_viewopt_rvwer?ie=UTF8&reviewerType=all_reviews&pageNumber=15\n",
      "https://www.amazon.com/Thick-It-RD26929208-36-OZ/product-reviews/B0011TUM3E/ref=cm_cr_arp_d_viewopt_rvwer?ie=UTF8&reviewerType=all_reviews&pageNumber=14\n",
      "https://www.amazon.com/Thick-It-RD26929208-36-OZ/product-reviews/B0011TUM3E/ref=cm_cr_arp_d_viewopt_rvwer?ie=UTF8&reviewerType=all_reviews&pageNumber=13\n",
      "https://www.amazon.com/Thick-It-RD26929208-36-OZ/product-reviews/B0011TUM3E/ref=cm_cr_arp_d_viewopt_rvwer?ie=UTF8&reviewerType=all_reviews&pageNumber=12\n",
      "https://www.amazon.com/Thick-It-RD26929208-36-OZ/product-reviews/B0011TUM3E/ref=cm_cr_arp_d_viewopt_rvwer?ie=UTF8&reviewerType=all_reviews&pageNumber=11\n",
      "https://www.amazon.com/Thick-It-RD26929208-36-OZ/product-reviews/B0011TUM3E/ref=cm_cr_arp_d_viewopt_rvwer?ie=UTF8&reviewerType=all_reviews&pageNumber=10\n",
      "https://www.amazon.com/Thick-It-RD26929208-36-OZ/product-reviews/B0011TUM3E/ref=cm_cr_arp_d_viewopt_rvwer?ie=UTF8&reviewerType=all_reviews&pageNumber=9\n",
      "https://www.amazon.com/Thick-It-RD26929208-36-OZ/product-reviews/B0011TUM3E/ref=cm_cr_arp_d_viewopt_rvwer?ie=UTF8&reviewerType=all_reviews&pageNumber=8\n",
      "https://www.amazon.com/Thick-It-RD26929208-36-OZ/product-reviews/B0011TUM3E/ref=cm_cr_arp_d_viewopt_rvwer?ie=UTF8&reviewerType=all_reviews&pageNumber=7\n",
      "https://www.amazon.com/Thick-It-RD26929208-36-OZ/product-reviews/B0011TUM3E/ref=cm_cr_arp_d_viewopt_rvwer?ie=UTF8&reviewerType=all_reviews&pageNumber=6\n",
      "https://www.amazon.com/Thick-It-RD26929208-36-OZ/product-reviews/B0011TUM3E/ref=cm_cr_arp_d_viewopt_rvwer?ie=UTF8&reviewerType=all_reviews&pageNumber=5\n",
      "https://www.amazon.com/Thick-It-RD26929208-36-OZ/product-reviews/B0011TUM3E/ref=cm_cr_arp_d_viewopt_rvwer?ie=UTF8&reviewerType=all_reviews&pageNumber=4\n",
      "https://www.amazon.com/Thick-It-RD26929208-36-OZ/product-reviews/B0011TUM3E/ref=cm_cr_arp_d_viewopt_rvwer?ie=UTF8&reviewerType=all_reviews&pageNumber=3\n",
      "https://www.amazon.com/Thick-It-RD26929208-36-OZ/product-reviews/B0011TUM3E/ref=cm_cr_arp_d_viewopt_rvwer?ie=UTF8&reviewerType=all_reviews&pageNumber=2\n",
      "https://www.amazon.com/Thick-It-RD26929208-36-OZ/product-reviews/B0011TUM3E/ref=cm_cr_arp_d_viewopt_rvwer?ie=UTF8&reviewerType=all_reviews&pageNumber=1\n",
      "https://www.amazon.com/Thick-Instant-Beverage-Thickener-Original/product-reviews/B00FBP39PC/ref=cm_cr_getr_d_paging_btm_prev_1?ie=UTF8&reviewerType=all_reviews&pageNumber=13\n",
      "https://www.amazon.com/Thick-Instant-Beverage-Thickener-Original/product-reviews/B00FBP39PC/ref=cm_cr_getr_d_paging_btm_prev_1?ie=UTF8&reviewerType=all_reviews&pageNumber=12\n",
      "https://www.amazon.com/Thick-Instant-Beverage-Thickener-Original/product-reviews/B00FBP39PC/ref=cm_cr_getr_d_paging_btm_prev_1?ie=UTF8&reviewerType=all_reviews&pageNumber=11\n",
      "https://www.amazon.com/Thick-Instant-Beverage-Thickener-Original/product-reviews/B00FBP39PC/ref=cm_cr_getr_d_paging_btm_prev_1?ie=UTF8&reviewerType=all_reviews&pageNumber=10\n",
      "https://www.amazon.com/Thick-Instant-Beverage-Thickener-Original/product-reviews/B00FBP39PC/ref=cm_cr_getr_d_paging_btm_prev_1?ie=UTF8&reviewerType=all_reviews&pageNumber=9\n",
      "https://www.amazon.com/Thick-Instant-Beverage-Thickener-Original/product-reviews/B00FBP39PC/ref=cm_cr_getr_d_paging_btm_prev_1?ie=UTF8&reviewerType=all_reviews&pageNumber=8\n",
      "https://www.amazon.com/Thick-Instant-Beverage-Thickener-Original/product-reviews/B00FBP39PC/ref=cm_cr_getr_d_paging_btm_prev_1?ie=UTF8&reviewerType=all_reviews&pageNumber=7\n",
      "https://www.amazon.com/Thick-Instant-Beverage-Thickener-Original/product-reviews/B00FBP39PC/ref=cm_cr_getr_d_paging_btm_prev_1?ie=UTF8&reviewerType=all_reviews&pageNumber=6\n",
      "https://www.amazon.com/Thick-Instant-Beverage-Thickener-Original/product-reviews/B00FBP39PC/ref=cm_cr_getr_d_paging_btm_prev_1?ie=UTF8&reviewerType=all_reviews&pageNumber=5\n",
      "https://www.amazon.com/Thick-Instant-Beverage-Thickener-Original/product-reviews/B00FBP39PC/ref=cm_cr_getr_d_paging_btm_prev_1?ie=UTF8&reviewerType=all_reviews&pageNumber=4\n",
      "https://www.amazon.com/Thick-Instant-Beverage-Thickener-Original/product-reviews/B00FBP39PC/ref=cm_cr_getr_d_paging_btm_prev_1?ie=UTF8&reviewerType=all_reviews&pageNumber=3\n",
      "https://www.amazon.com/Thick-Instant-Beverage-Thickener-Original/product-reviews/B00FBP39PC/ref=cm_cr_getr_d_paging_btm_prev_1?ie=UTF8&reviewerType=all_reviews&pageNumber=2\n",
      "https://www.amazon.com/Thick-Instant-Beverage-Thickener-Original/product-reviews/B00FBP39PC/ref=cm_cr_getr_d_paging_btm_prev_1?ie=UTF8&reviewerType=all_reviews&pageNumber=1\n",
      "https://www.amazon.com/Original-Thick-Food-Thickener-Ounce/product-reviews/B003MT0Q4Q/ref=cm_cr_getr_d_paging_btm_next_3?ie=UTF8&reviewerType=all_reviews&pageNumber=5\n",
      "https://www.amazon.com/Original-Thick-Food-Thickener-Ounce/product-reviews/B003MT0Q4Q/ref=cm_cr_getr_d_paging_btm_next_3?ie=UTF8&reviewerType=all_reviews&pageNumber=4\n",
      "https://www.amazon.com/Original-Thick-Food-Thickener-Ounce/product-reviews/B003MT0Q4Q/ref=cm_cr_getr_d_paging_btm_next_3?ie=UTF8&reviewerType=all_reviews&pageNumber=3\n",
      "https://www.amazon.com/Original-Thick-Food-Thickener-Ounce/product-reviews/B003MT0Q4Q/ref=cm_cr_getr_d_paging_btm_next_3?ie=UTF8&reviewerType=all_reviews&pageNumber=2\n",
      "https://www.amazon.com/Original-Thick-Food-Thickener-Ounce/product-reviews/B003MT0Q4Q/ref=cm_cr_getr_d_paging_btm_next_3?ie=UTF8&reviewerType=all_reviews&pageNumber=1\n",
      "https://www.amazon.com/Thick-It-Original-Thickener-10-Ounce/product-reviews/B00CMQDPC0/ref=cm_cr_arp_d_paging_btm_next_7?ie=UTF8&reviewerType=all_reviews&pageNumber=7\n",
      "https://www.amazon.com/Thick-It-Original-Thickener-10-Ounce/product-reviews/B00CMQDPC0/ref=cm_cr_arp_d_paging_btm_next_7?ie=UTF8&reviewerType=all_reviews&pageNumber=6\n",
      "https://www.amazon.com/Thick-It-Original-Thickener-10-Ounce/product-reviews/B00CMQDPC0/ref=cm_cr_arp_d_paging_btm_next_7?ie=UTF8&reviewerType=all_reviews&pageNumber=5\n",
      "https://www.amazon.com/Thick-It-Original-Thickener-10-Ounce/product-reviews/B00CMQDPC0/ref=cm_cr_arp_d_paging_btm_next_7?ie=UTF8&reviewerType=all_reviews&pageNumber=4\n",
      "https://www.amazon.com/Thick-It-Original-Thickener-10-Ounce/product-reviews/B00CMQDPC0/ref=cm_cr_arp_d_paging_btm_next_7?ie=UTF8&reviewerType=all_reviews&pageNumber=3\n",
      "https://www.amazon.com/Thick-It-Original-Thickener-10-Ounce/product-reviews/B00CMQDPC0/ref=cm_cr_arp_d_paging_btm_next_7?ie=UTF8&reviewerType=all_reviews&pageNumber=2\n",
      "https://www.amazon.com/Thick-It-Original-Thickener-10-Ounce/product-reviews/B00CMQDPC0/ref=cm_cr_arp_d_paging_btm_next_7?ie=UTF8&reviewerType=all_reviews&pageNumber=1\n",
      "https://www.amazon.com/Thick-MIIJ585-Instant-Beverage-Thickener/product-reviews/B002NH9KCM/ref=cm_cr_arp_d_paging_btm_next_2?ie=UTF8&reviewerType=all_reviews&pageNumber=\n",
      "https://www.amazon.com/Thick-MIIJ585-Instant-Beverage-Thickener/product-reviews/B002NH9KCM/ref=cm_cr_arp_d_paging_btm_next_2?ie=UTF8&reviewerType=all_reviews&pageNumber=\n",
      "https://www.amazon.com/Thick-MIIJ585-Instant-Beverage-Thickener/product-reviews/B002NH9KCM/ref=cm_cr_arp_d_paging_btm_next_2?ie=UTF8&reviewerType=all_reviews&pageNumber=\n",
      "https://www.amazon.com/Thick-MIIJ585-Instant-Beverage-Thickener/product-reviews/B002NH9KCM/ref=cm_cr_arp_d_paging_btm_next_2?ie=UTF8&reviewerType=all_reviews&pageNumber=\n",
      "https://www.amazon.com/Thick-MIIJ585-Instant-Beverage-Thickener/product-reviews/B002NH9KCM/ref=cm_cr_arp_d_paging_btm_next_2?ie=UTF8&reviewerType=all_reviews&pageNumber=\n",
      "https://www.amazon.com/Thick-MIIJ585-Instant-Beverage-Thickener/product-reviews/B002NH9KCM/ref=cm_cr_arp_d_paging_btm_next_2?ie=UTF8&reviewerType=all_reviews&pageNumber=\n",
      "https://www.amazon.com/Thick-MIIJ585-Instant-Beverage-Thickener/product-reviews/B002NH9KCM/ref=cm_cr_arp_d_paging_btm_next_2?ie=UTF8&reviewerType=all_reviews&pageNumber=\n",
      "https://www.amazon.com/Thick-MIIJ585-Instant-Beverage-Thickener/product-reviews/B002NH9KCM/ref=cm_cr_arp_d_paging_btm_next_2?ie=UTF8&reviewerType=all_reviews&pageNumber=\n",
      "https://www.amazon.com/Thick-MIIJ585-Instant-Beverage-Thickener/product-reviews/B002NH9KCM/ref=cm_cr_arp_d_paging_btm_next_2?ie=UTF8&reviewerType=all_reviews&pageNumber=\n",
      "['https://www.amazon.com/Thick-It-RD26929208-36-OZ/product-reviews/B0011TUM3E/ref=cm_cr_arp_d_viewopt_rvwer?ie=UTF8&reviewerType=all_reviews&pageNumber=44', 'https://www.amazon.com/Thick-It-RD26929208-36-OZ/product-reviews/B0011TUM3E/ref=cm_cr_arp_d_viewopt_rvwer?ie=UTF8&reviewerType=all_reviews&pageNumber=43', 'https://www.amazon.com/Thick-It-RD26929208-36-OZ/product-reviews/B0011TUM3E/ref=cm_cr_arp_d_viewopt_rvwer?ie=UTF8&reviewerType=all_reviews&pageNumber=42', 'https://www.amazon.com/Thick-It-RD26929208-36-OZ/product-reviews/B0011TUM3E/ref=cm_cr_arp_d_viewopt_rvwer?ie=UTF8&reviewerType=all_reviews&pageNumber=41', 'https://www.amazon.com/Thick-It-RD26929208-36-OZ/product-reviews/B0011TUM3E/ref=cm_cr_arp_d_viewopt_rvwer?ie=UTF8&reviewerType=all_reviews&pageNumber=40', 'https://www.amazon.com/Thick-It-RD26929208-36-OZ/product-reviews/B0011TUM3E/ref=cm_cr_arp_d_viewopt_rvwer?ie=UTF8&reviewerType=all_reviews&pageNumber=39', 'https://www.amazon.com/Thick-It-RD26929208-36-OZ/product-reviews/B0011TUM3E/ref=cm_cr_arp_d_viewopt_rvwer?ie=UTF8&reviewerType=all_reviews&pageNumber=38', 'https://www.amazon.com/Thick-It-RD26929208-36-OZ/product-reviews/B0011TUM3E/ref=cm_cr_arp_d_viewopt_rvwer?ie=UTF8&reviewerType=all_reviews&pageNumber=37', 'https://www.amazon.com/Thick-It-RD26929208-36-OZ/product-reviews/B0011TUM3E/ref=cm_cr_arp_d_viewopt_rvwer?ie=UTF8&reviewerType=all_reviews&pageNumber=36', 'https://www.amazon.com/Thick-It-RD26929208-36-OZ/product-reviews/B0011TUM3E/ref=cm_cr_arp_d_viewopt_rvwer?ie=UTF8&reviewerType=all_reviews&pageNumber=35', 'https://www.amazon.com/Thick-It-RD26929208-36-OZ/product-reviews/B0011TUM3E/ref=cm_cr_arp_d_viewopt_rvwer?ie=UTF8&reviewerType=all_reviews&pageNumber=34', 'https://www.amazon.com/Thick-It-RD26929208-36-OZ/product-reviews/B0011TUM3E/ref=cm_cr_arp_d_viewopt_rvwer?ie=UTF8&reviewerType=all_reviews&pageNumber=33', 'https://www.amazon.com/Thick-It-RD26929208-36-OZ/product-reviews/B0011TUM3E/ref=cm_cr_arp_d_viewopt_rvwer?ie=UTF8&reviewerType=all_reviews&pageNumber=32', 'https://www.amazon.com/Thick-It-RD26929208-36-OZ/product-reviews/B0011TUM3E/ref=cm_cr_arp_d_viewopt_rvwer?ie=UTF8&reviewerType=all_reviews&pageNumber=31', 'https://www.amazon.com/Thick-It-RD26929208-36-OZ/product-reviews/B0011TUM3E/ref=cm_cr_arp_d_viewopt_rvwer?ie=UTF8&reviewerType=all_reviews&pageNumber=30', 'https://www.amazon.com/Thick-It-RD26929208-36-OZ/product-reviews/B0011TUM3E/ref=cm_cr_arp_d_viewopt_rvwer?ie=UTF8&reviewerType=all_reviews&pageNumber=29', 'https://www.amazon.com/Thick-It-RD26929208-36-OZ/product-reviews/B0011TUM3E/ref=cm_cr_arp_d_viewopt_rvwer?ie=UTF8&reviewerType=all_reviews&pageNumber=28', 'https://www.amazon.com/Thick-It-RD26929208-36-OZ/product-reviews/B0011TUM3E/ref=cm_cr_arp_d_viewopt_rvwer?ie=UTF8&reviewerType=all_reviews&pageNumber=27', 'https://www.amazon.com/Thick-It-RD26929208-36-OZ/product-reviews/B0011TUM3E/ref=cm_cr_arp_d_viewopt_rvwer?ie=UTF8&reviewerType=all_reviews&pageNumber=26', 'https://www.amazon.com/Thick-It-RD26929208-36-OZ/product-reviews/B0011TUM3E/ref=cm_cr_arp_d_viewopt_rvwer?ie=UTF8&reviewerType=all_reviews&pageNumber=25', 'https://www.amazon.com/Thick-It-RD26929208-36-OZ/product-reviews/B0011TUM3E/ref=cm_cr_arp_d_viewopt_rvwer?ie=UTF8&reviewerType=all_reviews&pageNumber=24', 'https://www.amazon.com/Thick-It-RD26929208-36-OZ/product-reviews/B0011TUM3E/ref=cm_cr_arp_d_viewopt_rvwer?ie=UTF8&reviewerType=all_reviews&pageNumber=23', 'https://www.amazon.com/Thick-It-RD26929208-36-OZ/product-reviews/B0011TUM3E/ref=cm_cr_arp_d_viewopt_rvwer?ie=UTF8&reviewerType=all_reviews&pageNumber=22', 'https://www.amazon.com/Thick-It-RD26929208-36-OZ/product-reviews/B0011TUM3E/ref=cm_cr_arp_d_viewopt_rvwer?ie=UTF8&reviewerType=all_reviews&pageNumber=21', 'https://www.amazon.com/Thick-It-RD26929208-36-OZ/product-reviews/B0011TUM3E/ref=cm_cr_arp_d_viewopt_rvwer?ie=UTF8&reviewerType=all_reviews&pageNumber=20', 'https://www.amazon.com/Thick-It-RD26929208-36-OZ/product-reviews/B0011TUM3E/ref=cm_cr_arp_d_viewopt_rvwer?ie=UTF8&reviewerType=all_reviews&pageNumber=19', 'https://www.amazon.com/Thick-It-RD26929208-36-OZ/product-reviews/B0011TUM3E/ref=cm_cr_arp_d_viewopt_rvwer?ie=UTF8&reviewerType=all_reviews&pageNumber=18', 'https://www.amazon.com/Thick-It-RD26929208-36-OZ/product-reviews/B0011TUM3E/ref=cm_cr_arp_d_viewopt_rvwer?ie=UTF8&reviewerType=all_reviews&pageNumber=17', 'https://www.amazon.com/Thick-It-RD26929208-36-OZ/product-reviews/B0011TUM3E/ref=cm_cr_arp_d_viewopt_rvwer?ie=UTF8&reviewerType=all_reviews&pageNumber=16', 'https://www.amazon.com/Thick-It-RD26929208-36-OZ/product-reviews/B0011TUM3E/ref=cm_cr_arp_d_viewopt_rvwer?ie=UTF8&reviewerType=all_reviews&pageNumber=15', 'https://www.amazon.com/Thick-It-RD26929208-36-OZ/product-reviews/B0011TUM3E/ref=cm_cr_arp_d_viewopt_rvwer?ie=UTF8&reviewerType=all_reviews&pageNumber=14', 'https://www.amazon.com/Thick-It-RD26929208-36-OZ/product-reviews/B0011TUM3E/ref=cm_cr_arp_d_viewopt_rvwer?ie=UTF8&reviewerType=all_reviews&pageNumber=13', 'https://www.amazon.com/Thick-It-RD26929208-36-OZ/product-reviews/B0011TUM3E/ref=cm_cr_arp_d_viewopt_rvwer?ie=UTF8&reviewerType=all_reviews&pageNumber=12', 'https://www.amazon.com/Thick-It-RD26929208-36-OZ/product-reviews/B0011TUM3E/ref=cm_cr_arp_d_viewopt_rvwer?ie=UTF8&reviewerType=all_reviews&pageNumber=11', 'https://www.amazon.com/Thick-It-RD26929208-36-OZ/product-reviews/B0011TUM3E/ref=cm_cr_arp_d_viewopt_rvwer?ie=UTF8&reviewerType=all_reviews&pageNumber=10', 'https://www.amazon.com/Thick-It-RD26929208-36-OZ/product-reviews/B0011TUM3E/ref=cm_cr_arp_d_viewopt_rvwer?ie=UTF8&reviewerType=all_reviews&pageNumber=9', 'https://www.amazon.com/Thick-It-RD26929208-36-OZ/product-reviews/B0011TUM3E/ref=cm_cr_arp_d_viewopt_rvwer?ie=UTF8&reviewerType=all_reviews&pageNumber=8', 'https://www.amazon.com/Thick-It-RD26929208-36-OZ/product-reviews/B0011TUM3E/ref=cm_cr_arp_d_viewopt_rvwer?ie=UTF8&reviewerType=all_reviews&pageNumber=7', 'https://www.amazon.com/Thick-It-RD26929208-36-OZ/product-reviews/B0011TUM3E/ref=cm_cr_arp_d_viewopt_rvwer?ie=UTF8&reviewerType=all_reviews&pageNumber=6', 'https://www.amazon.com/Thick-It-RD26929208-36-OZ/product-reviews/B0011TUM3E/ref=cm_cr_arp_d_viewopt_rvwer?ie=UTF8&reviewerType=all_reviews&pageNumber=5', 'https://www.amazon.com/Thick-It-RD26929208-36-OZ/product-reviews/B0011TUM3E/ref=cm_cr_arp_d_viewopt_rvwer?ie=UTF8&reviewerType=all_reviews&pageNumber=4', 'https://www.amazon.com/Thick-It-RD26929208-36-OZ/product-reviews/B0011TUM3E/ref=cm_cr_arp_d_viewopt_rvwer?ie=UTF8&reviewerType=all_reviews&pageNumber=3', 'https://www.amazon.com/Thick-It-RD26929208-36-OZ/product-reviews/B0011TUM3E/ref=cm_cr_arp_d_viewopt_rvwer?ie=UTF8&reviewerType=all_reviews&pageNumber=2', 'https://www.amazon.com/Thick-It-RD26929208-36-OZ/product-reviews/B0011TUM3E/ref=cm_cr_arp_d_viewopt_rvwer?ie=UTF8&reviewerType=all_reviews&pageNumber=1', 'https://www.amazon.com/Thick-Instant-Beverage-Thickener-Original/product-reviews/B00FBP39PC/ref=cm_cr_getr_d_paging_btm_prev_1?ie=UTF8&reviewerType=all_reviews&pageNumber=13', 'https://www.amazon.com/Thick-Instant-Beverage-Thickener-Original/product-reviews/B00FBP39PC/ref=cm_cr_getr_d_paging_btm_prev_1?ie=UTF8&reviewerType=all_reviews&pageNumber=12', 'https://www.amazon.com/Thick-Instant-Beverage-Thickener-Original/product-reviews/B00FBP39PC/ref=cm_cr_getr_d_paging_btm_prev_1?ie=UTF8&reviewerType=all_reviews&pageNumber=11', 'https://www.amazon.com/Thick-Instant-Beverage-Thickener-Original/product-reviews/B00FBP39PC/ref=cm_cr_getr_d_paging_btm_prev_1?ie=UTF8&reviewerType=all_reviews&pageNumber=10', 'https://www.amazon.com/Thick-Instant-Beverage-Thickener-Original/product-reviews/B00FBP39PC/ref=cm_cr_getr_d_paging_btm_prev_1?ie=UTF8&reviewerType=all_reviews&pageNumber=9', 'https://www.amazon.com/Thick-Instant-Beverage-Thickener-Original/product-reviews/B00FBP39PC/ref=cm_cr_getr_d_paging_btm_prev_1?ie=UTF8&reviewerType=all_reviews&pageNumber=8', 'https://www.amazon.com/Thick-Instant-Beverage-Thickener-Original/product-reviews/B00FBP39PC/ref=cm_cr_getr_d_paging_btm_prev_1?ie=UTF8&reviewerType=all_reviews&pageNumber=7', 'https://www.amazon.com/Thick-Instant-Beverage-Thickener-Original/product-reviews/B00FBP39PC/ref=cm_cr_getr_d_paging_btm_prev_1?ie=UTF8&reviewerType=all_reviews&pageNumber=6', 'https://www.amazon.com/Thick-Instant-Beverage-Thickener-Original/product-reviews/B00FBP39PC/ref=cm_cr_getr_d_paging_btm_prev_1?ie=UTF8&reviewerType=all_reviews&pageNumber=5', 'https://www.amazon.com/Thick-Instant-Beverage-Thickener-Original/product-reviews/B00FBP39PC/ref=cm_cr_getr_d_paging_btm_prev_1?ie=UTF8&reviewerType=all_reviews&pageNumber=4', 'https://www.amazon.com/Thick-Instant-Beverage-Thickener-Original/product-reviews/B00FBP39PC/ref=cm_cr_getr_d_paging_btm_prev_1?ie=UTF8&reviewerType=all_reviews&pageNumber=3', 'https://www.amazon.com/Thick-Instant-Beverage-Thickener-Original/product-reviews/B00FBP39PC/ref=cm_cr_getr_d_paging_btm_prev_1?ie=UTF8&reviewerType=all_reviews&pageNumber=2', 'https://www.amazon.com/Thick-Instant-Beverage-Thickener-Original/product-reviews/B00FBP39PC/ref=cm_cr_getr_d_paging_btm_prev_1?ie=UTF8&reviewerType=all_reviews&pageNumber=1', 'https://www.amazon.com/Original-Thick-Food-Thickener-Ounce/product-reviews/B003MT0Q4Q/ref=cm_cr_getr_d_paging_btm_next_3?ie=UTF8&reviewerType=all_reviews&pageNumber=5', 'https://www.amazon.com/Original-Thick-Food-Thickener-Ounce/product-reviews/B003MT0Q4Q/ref=cm_cr_getr_d_paging_btm_next_3?ie=UTF8&reviewerType=all_reviews&pageNumber=4', 'https://www.amazon.com/Original-Thick-Food-Thickener-Ounce/product-reviews/B003MT0Q4Q/ref=cm_cr_getr_d_paging_btm_next_3?ie=UTF8&reviewerType=all_reviews&pageNumber=3', 'https://www.amazon.com/Original-Thick-Food-Thickener-Ounce/product-reviews/B003MT0Q4Q/ref=cm_cr_getr_d_paging_btm_next_3?ie=UTF8&reviewerType=all_reviews&pageNumber=2', 'https://www.amazon.com/Original-Thick-Food-Thickener-Ounce/product-reviews/B003MT0Q4Q/ref=cm_cr_getr_d_paging_btm_next_3?ie=UTF8&reviewerType=all_reviews&pageNumber=1', 'https://www.amazon.com/Thick-It-Original-Thickener-10-Ounce/product-reviews/B00CMQDPC0/ref=cm_cr_arp_d_paging_btm_next_7?ie=UTF8&reviewerType=all_reviews&pageNumber=7', 'https://www.amazon.com/Thick-It-Original-Thickener-10-Ounce/product-reviews/B00CMQDPC0/ref=cm_cr_arp_d_paging_btm_next_7?ie=UTF8&reviewerType=all_reviews&pageNumber=6', 'https://www.amazon.com/Thick-It-Original-Thickener-10-Ounce/product-reviews/B00CMQDPC0/ref=cm_cr_arp_d_paging_btm_next_7?ie=UTF8&reviewerType=all_reviews&pageNumber=5', 'https://www.amazon.com/Thick-It-Original-Thickener-10-Ounce/product-reviews/B00CMQDPC0/ref=cm_cr_arp_d_paging_btm_next_7?ie=UTF8&reviewerType=all_reviews&pageNumber=4', 'https://www.amazon.com/Thick-It-Original-Thickener-10-Ounce/product-reviews/B00CMQDPC0/ref=cm_cr_arp_d_paging_btm_next_7?ie=UTF8&reviewerType=all_reviews&pageNumber=3', 'https://www.amazon.com/Thick-It-Original-Thickener-10-Ounce/product-reviews/B00CMQDPC0/ref=cm_cr_arp_d_paging_btm_next_7?ie=UTF8&reviewerType=all_reviews&pageNumber=2', 'https://www.amazon.com/Thick-It-Original-Thickener-10-Ounce/product-reviews/B00CMQDPC0/ref=cm_cr_arp_d_paging_btm_next_7?ie=UTF8&reviewerType=all_reviews&pageNumber=1', 'https://www.amazon.com/Thick-MIIJ585-Instant-Beverage-Thickener/product-reviews/B002NH9KCM/ref=cm_cr_arp_d_paging_btm_next_2?ie=UTF8&reviewerType=all_reviews&pageNumber=', 'https://www.amazon.com/Thick-MIIJ585-Instant-Beverage-Thickener/product-reviews/B002NH9KCM/ref=cm_cr_arp_d_paging_btm_next_2?ie=UTF8&reviewerType=all_reviews&pageNumber=', 'https://www.amazon.com/Thick-MIIJ585-Instant-Beverage-Thickener/product-reviews/B002NH9KCM/ref=cm_cr_arp_d_paging_btm_next_2?ie=UTF8&reviewerType=all_reviews&pageNumber=', 'https://www.amazon.com/Thick-MIIJ585-Instant-Beverage-Thickener/product-reviews/B002NH9KCM/ref=cm_cr_arp_d_paging_btm_next_2?ie=UTF8&reviewerType=all_reviews&pageNumber=', 'https://www.amazon.com/Thick-MIIJ585-Instant-Beverage-Thickener/product-reviews/B002NH9KCM/ref=cm_cr_arp_d_paging_btm_next_2?ie=UTF8&reviewerType=all_reviews&pageNumber=', 'https://www.amazon.com/Thick-MIIJ585-Instant-Beverage-Thickener/product-reviews/B002NH9KCM/ref=cm_cr_arp_d_paging_btm_next_2?ie=UTF8&reviewerType=all_reviews&pageNumber=', 'https://www.amazon.com/Thick-MIIJ585-Instant-Beverage-Thickener/product-reviews/B002NH9KCM/ref=cm_cr_arp_d_paging_btm_next_2?ie=UTF8&reviewerType=all_reviews&pageNumber=', 'https://www.amazon.com/Thick-MIIJ585-Instant-Beverage-Thickener/product-reviews/B002NH9KCM/ref=cm_cr_arp_d_paging_btm_next_2?ie=UTF8&reviewerType=all_reviews&pageNumber=', 'https://www.amazon.com/Thick-MIIJ585-Instant-Beverage-Thickener/product-reviews/B002NH9KCM/ref=cm_cr_arp_d_paging_btm_next_2?ie=UTF8&reviewerType=all_reviews&pageNumber=']\n"
     ]
    }
   ],
   "source": [
    "ALL_REVIEWS = []\n",
    "pages = []\n",
    "with open('urls.txt', 'r') as urls:\n",
    "    for url in urls.readlines():\n",
    "        lastPage = int(url.split('=')[-1]) #extract last page number\n",
    "        url = url[0:-1]\n",
    "        for x in range(lastPage, 0, -1):\n",
    "            print(url)\n",
    "            pages.append(url)\n",
    "            url = url.replace(\"pageNumber=\" + str(x), \"pageNumber=\" + str(x-1))\n",
    "print(pages)\n",
    "for url in pages:\n",
    "    resp = requests.get(url, headers=headers)\n",
    "    soup = BeautifulSoup(resp.text, \"html.parser\")\n",
    "    reviews = soup.find_all(\"div\", {\"class\": \"a-section review aok-relative\"})\n",
    "    records = [get_review_components(rev) for rev in reviews]\n",
    "    ALL_REVIEWS.extend(records) \n",
    "\n",
    "    \n",
    "out = pd.DataFrame.from_records(ALL_REVIEWS)"
   ]
  },
  {
   "cell_type": "code",
   "execution_count": 129,
   "metadata": {},
   "outputs": [],
   "source": [
    "from datetime import datetime"
   ]
  },
  {
   "cell_type": "code",
   "execution_count": 130,
   "metadata": {},
   "outputs": [],
   "source": [
    "save_name = f\"{datetime.now().strftime('%Y-%m-%d-%m')}.csv\"\n",
    "out.to_csv(save_name)"
   ]
  },
  {
   "cell_type": "code",
   "execution_count": 131,
   "metadata": {},
   "outputs": [
    {
     "name": "stdout",
     "output_type": "stream",
     "text": [
      "2021-09-24-09.csv\r\n"
     ]
    }
   ],
   "source": [
    "%ls | grep .csv"
   ]
  },
  {
   "cell_type": "code",
   "execution_count": 132,
   "metadata": {},
   "outputs": [],
   "source": [
    "# Keyword Mining from Amazon Internal Search\n",
    "from typing import Dict, List\n",
    "\n",
    "def scrape_amazon_autocomplete(query: str) -> List[Dict]:\n",
    "    API = f\"https://completion.amazon.com/api/2017/suggestions?session-id=146-2689202-9572416&customer-id=ABFEO96HMJKJ9&request-id=2Y8N0ZY2MBDGD78YCSVH&page-type=Gateway&lop=en_US&site-variant=desktop&client-info=amazon-search-ui&mid=ATVPDKIKX0DER&alias=aps&b2b=0&fresh=0&ks=82&prefix={query}&event=onKeyPress&limit=11&fb=1&suggestion-type=KEYWORD&suggestion-type=WIDGET&_=1606503962282\"\n",
    "    json_resp = requests.get(API, headers=headers).json()\n",
    "    return json_resp['suggestions']"
   ]
  },
  {
   "cell_type": "code",
   "execution_count": 109,
   "metadata": {},
   "outputs": [
    {
     "ename": "TypeError",
     "evalue": "map() missing 1 required positional argument: 'arg'",
     "output_type": "error",
     "traceback": [
      "\u001b[0;31m---------------------------------------------------------------------------\u001b[0m",
      "\u001b[0;31mTypeError\u001b[0m                                 Traceback (most recent call last)",
      "\u001b[0;32m<ipython-input-109-66f5e7b088ab>\u001b[0m in \u001b[0;36m<module>\u001b[0;34m\u001b[0m\n\u001b[1;32m      1\u001b[0m \u001b[0mrecords\u001b[0m \u001b[0;34m=\u001b[0m \u001b[0mscrape_amazon_autocomplete\u001b[0m\u001b[0;34m(\u001b[0m\u001b[0;34m'dog friendly'\u001b[0m\u001b[0;34m)\u001b[0m\u001b[0;34m\u001b[0m\u001b[0;34m\u001b[0m\u001b[0m\n\u001b[1;32m      2\u001b[0m \u001b[0mdf\u001b[0m \u001b[0;34m=\u001b[0m \u001b[0mpd\u001b[0m\u001b[0;34m.\u001b[0m\u001b[0mDataFrame\u001b[0m\u001b[0;34m.\u001b[0m\u001b[0mfrom_records\u001b[0m\u001b[0;34m(\u001b[0m\u001b[0mrecords\u001b[0m\u001b[0;34m)\u001b[0m\u001b[0;34m\u001b[0m\u001b[0;34m\u001b[0m\u001b[0m\n\u001b[0;32m----> 3\u001b[0;31m \u001b[0mdf\u001b[0m\u001b[0;34m[\u001b[0m\u001b[0;34m'query_level_queries'\u001b[0m\u001b[0;34m]\u001b[0m \u001b[0;34m=\u001b[0m \u001b[0mdf\u001b[0m\u001b[0;34m[\u001b[0m\u001b[0;34m'value'\u001b[0m\u001b[0;34m]\u001b[0m\u001b[0;34m.\u001b[0m\u001b[0mmap\u001b[0m\u001b[0;34m(\u001b[0m\u001b[0;34m)\u001b[0m\u001b[0;34m\u001b[0m\u001b[0;34m\u001b[0m\u001b[0m\n\u001b[0m\u001b[1;32m      4\u001b[0m \u001b[0mdf\u001b[0m\u001b[0;34m.\u001b[0m\u001b[0mhead\u001b[0m\u001b[0;34m(\u001b[0m\u001b[0;34m)\u001b[0m\u001b[0;34m\u001b[0m\u001b[0;34m\u001b[0m\u001b[0m\n",
      "\u001b[0;31mTypeError\u001b[0m: map() missing 1 required positional argument: 'arg'"
     ]
    }
   ],
   "source": [
    "records = scrape_amazon_autocomplete('dog friendly')\n",
    "df = pd.DataFrame.from_records(records)\n",
    "df['query_level_queries'] = df['value'].map()\n",
    "df.head()"
   ]
  },
  {
   "cell_type": "code",
   "execution_count": 17,
   "metadata": {},
   "outputs": [],
   "source": [
    "df['child_queries'] = df['value'].map(\n",
    "                    lambda x: [j.get('value') for j in \n",
    "                           scrape_amazon_autocomplete(x)]\n",
    "               )"
   ]
  },
  {
   "cell_type": "code",
   "execution_count": 18,
   "metadata": {},
   "outputs": [
    {
     "data": {
      "text/plain": [
       "list"
      ]
     },
     "execution_count": 18,
     "metadata": {},
     "output_type": "execute_result"
    }
   ],
   "source": [
    "type(df[['value', 'child_queries']].iloc[0].child_queries)"
   ]
  },
  {
   "cell_type": "code",
   "execution_count": 19,
   "metadata": {},
   "outputs": [],
   "source": [
    "with open('output_file.txt', 'w') as f:\n",
    "    for index, row in df.iterrows():\n",
    "        for next_row in row['child_queries']:\n",
    "            f.write(f\"{row['value']} --> {next_row}\\n\")"
   ]
  },
  {
   "cell_type": "code",
   "execution_count": 20,
   "metadata": {},
   "outputs": [
    {
     "name": "stdout",
     "output_type": "stream",
     "text": [
      "dog friendly rugs --> dog friendly rugs\r\n",
      "dog friendly rugs --> dog friendly rugs\r\n",
      "dog friendly rugs --> dog friendly rugs for living room washable\r\n",
      "dog friendly rugs --> dog friendly rugs for living room\r\n",
      "dog friendly rugs --> dog friendly rugs washable\r\n",
      "dog friendly rugs --> dog friendly rugs for bedroom\r\n",
      "dog friendly rugs --> dog friendly rugs\r\n",
      "dog friendly rugs --> dog friendly rugs\r\n",
      "dog friendly rugs --> dog friendly rugs for living room washable\r\n",
      "dog friendly rugs --> dog friendly rugs for living room\r\n",
      "dog friendly rugs --> dog friendly rugs washable\r\n",
      "dog friendly rugs --> dog friendly rugs for bedroom\r\n",
      "dog friendly weed killer --> dog friendly weed killer\r\n",
      "dog friendly weed killer --> dog friendly weed killer\r\n",
      "dog friendly weed killer --> dog friendly weed killer spray\r\n",
      "dog friendly bed comforter --> dog friendly bed comforter\r\n",
      "dog friendly bed comforter --> dog friendly bed comforter\r\n",
      "dog friendly peanut butter --> dog friendly peanut butter\r\n",
      "dog friendly peanut butter --> dog friendly peanut butter\r\n",
      "dog friendly paint --> dog friendly paint\r\n",
      "dog friendly paint --> dog friendly paint for paw prints\r\n",
      "dog friendly paint --> dog friendly paint white\r\n",
      "dog friendly bubbles --> dog friendly bubbles\r\n",
      "dog friendly bubbles --> dog friendly bubbles\r\n",
      "dog friendly turf --> dog friendly turf\r\n",
      "dog friendly turf --> dog friendly turf cleaner\r\n",
      "dog friendly paint for paw prints --> dog friendly paint for paw prints\r\n",
      "dog friendly ant killer --> dog friendly ant killer\r\n",
      "dog friendly candles --> dog friendly candles\r\n"
     ]
    }
   ],
   "source": [
    "!cat output_file.txt"
   ]
  },
  {
   "cell_type": "markdown",
   "metadata": {
    "collapsed": true
   },
   "source": [
    "Code from \n",
    "https://gist.github.com/jrjames83/5004458ccc97c3ba8c8e8e17093c268f"
   ]
  }
 ],
 "metadata": {
  "anaconda-cloud": {},
  "kernelspec": {
   "display_name": "Python 3",
   "language": "python",
   "name": "python3"
  },
  "language_info": {
   "codemirror_mode": {
    "name": "ipython",
    "version": 3
   },
   "file_extension": ".py",
   "mimetype": "text/x-python",
   "name": "python",
   "nbconvert_exporter": "python",
   "pygments_lexer": "ipython3",
   "version": "3.8.5"
  }
 },
 "nbformat": 4,
 "nbformat_minor": 1
}
