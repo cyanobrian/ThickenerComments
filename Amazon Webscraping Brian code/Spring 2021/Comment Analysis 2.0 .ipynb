{
 "cells": [
  {
   "cell_type": "markdown",
   "metadata": {},
   "source": [
    "# **Reading sources**\n",
    "Applying text mining to identify relevant literature in food science: Cold denaturation as a case study https://doi.org/10.1111/1750-3841.15940\n",
    "\n",
    "LDA Code \n",
    "https://towardsdatascience.com/end-to-end-topic-modeling-in-python-latent-dirichlet-allocation-lda-35ce4ed6b3e0"
   ]
  },
  {
   "cell_type": "code",
   "execution_count": 46,
   "metadata": {},
   "outputs": [
    {
     "name": "stderr",
     "output_type": "stream",
     "text": [
      "/Users/brianzhang/opt/anaconda3/lib/python3.8/site-packages/ipykernel/ipkernel.py:287: DeprecationWarning: `should_run_async` will not call `transform_cell` automatically in the future. Please pass the result to `transformed_cell` argument and any exception that happen during thetransform in `preprocessing_exc_tuple` in IPython 7.17 and above.\n",
      "  and should_run_async(code)\n"
     ]
    },
    {
     "data": {
      "text/html": [
       "<div>\n",
       "<style scoped>\n",
       "    .dataframe tbody tr th:only-of-type {\n",
       "        vertical-align: middle;\n",
       "    }\n",
       "\n",
       "    .dataframe tbody tr th {\n",
       "        vertical-align: top;\n",
       "    }\n",
       "\n",
       "    .dataframe thead th {\n",
       "        text-align: right;\n",
       "    }\n",
       "</style>\n",
       "<table border=\"1\" class=\"dataframe\">\n",
       "  <thead>\n",
       "    <tr style=\"text-align: right;\">\n",
       "      <th></th>\n",
       "      <th>title</th>\n",
       "      <th>content</th>\n",
       "      <th>date</th>\n",
       "      <th>variant</th>\n",
       "      <th>images</th>\n",
       "      <th>verified</th>\n",
       "      <th>author</th>\n",
       "      <th>rating</th>\n",
       "      <th>product</th>\n",
       "      <th>url</th>\n",
       "    </tr>\n",
       "  </thead>\n",
       "  <tbody>\n",
       "    <tr>\n",
       "      <th>0</th>\n",
       "      <td>Thick it works .....</td>\n",
       "      <td>Easy to thicken and works very well.  Unfortun...</td>\n",
       "      <td>22 Apr 2021</td>\n",
       "      <td>Size: 2.25 Pound (Pack of 1) Style: 36 oz</td>\n",
       "      <td>NaN</td>\n",
       "      <td>No</td>\n",
       "      <td>Amazon Customer</td>\n",
       "      <td>5.0</td>\n",
       "      <td>Thick-It Original Food &amp; Beverage Thickener, 3...</td>\n",
       "      <td>https://www.amazon.com/Thick-It-RD26929208-36-...</td>\n",
       "    </tr>\n",
       "    <tr>\n",
       "      <th>1</th>\n",
       "      <td>Five Stars</td>\n",
       "      <td>Great Product.</td>\n",
       "      <td>16 Jun 2016</td>\n",
       "      <td>Size: 2.25 Pound (Pack of 1) Style: 36 oz</td>\n",
       "      <td>NaN</td>\n",
       "      <td>No</td>\n",
       "      <td>Mildred S. Hanby</td>\n",
       "      <td>5.0</td>\n",
       "      <td>Thick-It Original Food &amp; Beverage Thickener, 3...</td>\n",
       "      <td>https://www.amazon.com/Thick-It-RD26929208-36-...</td>\n",
       "    </tr>\n",
       "    <tr>\n",
       "      <th>2</th>\n",
       "      <td>Five Stars</td>\n",
       "      <td>As good as it gets  !!!!</td>\n",
       "      <td>22 Aug 2016</td>\n",
       "      <td>Size: 2.25 Pound (Pack of 1) Style: 36 oz</td>\n",
       "      <td>NaN</td>\n",
       "      <td>No</td>\n",
       "      <td>bamatown</td>\n",
       "      <td>5.0</td>\n",
       "      <td>Thick-It Original Food &amp; Beverage Thickener, 3...</td>\n",
       "      <td>https://www.amazon.com/Thick-It-RD26929208-36-...</td>\n",
       "    </tr>\n",
       "    <tr>\n",
       "      <th>3</th>\n",
       "      <td>Five Stars</td>\n",
       "      <td>Order always arrives promptly. I order from Pr...</td>\n",
       "      <td>06 Jul 2016</td>\n",
       "      <td>Size: 2.25 Pound (Pack of 1) Style: 36 oz</td>\n",
       "      <td>NaN</td>\n",
       "      <td>No</td>\n",
       "      <td>Heidi Morehouse</td>\n",
       "      <td>5.0</td>\n",
       "      <td>Thick-It Original Food &amp; Beverage Thickener, 3...</td>\n",
       "      <td>https://www.amazon.com/Thick-It-RD26929208-36-...</td>\n",
       "    </tr>\n",
       "    <tr>\n",
       "      <th>4</th>\n",
       "      <td>Three Stars</td>\n",
       "      <td>Good product and good value.</td>\n",
       "      <td>08 Aug 2014</td>\n",
       "      <td>Size: 2.25 Pound (Pack of 1) Style: 36 oz</td>\n",
       "      <td>NaN</td>\n",
       "      <td>No</td>\n",
       "      <td>Grammy O</td>\n",
       "      <td>3.0</td>\n",
       "      <td>Thick-It Original Food &amp; Beverage Thickener, 3...</td>\n",
       "      <td>https://www.amazon.com/Thick-It-RD26929208-36-...</td>\n",
       "    </tr>\n",
       "  </tbody>\n",
       "</table>\n",
       "</div>"
      ],
      "text/plain": [
       "                  title                                            content  \\\n",
       "0  Thick it works .....  Easy to thicken and works very well.  Unfortun...   \n",
       "1            Five Stars                                     Great Product.   \n",
       "2            Five Stars                           As good as it gets  !!!!   \n",
       "3            Five Stars  Order always arrives promptly. I order from Pr...   \n",
       "4           Three Stars                       Good product and good value.   \n",
       "\n",
       "          date                                    variant images verified  \\\n",
       "0  22 Apr 2021  Size: 2.25 Pound (Pack of 1) Style: 36 oz    NaN       No   \n",
       "1  16 Jun 2016  Size: 2.25 Pound (Pack of 1) Style: 36 oz    NaN       No   \n",
       "2  22 Aug 2016  Size: 2.25 Pound (Pack of 1) Style: 36 oz    NaN       No   \n",
       "3  06 Jul 2016  Size: 2.25 Pound (Pack of 1) Style: 36 oz    NaN       No   \n",
       "4  08 Aug 2014  Size: 2.25 Pound (Pack of 1) Style: 36 oz    NaN       No   \n",
       "\n",
       "             author  rating  \\\n",
       "0   Amazon Customer     5.0   \n",
       "1  Mildred S. Hanby     5.0   \n",
       "2          bamatown     5.0   \n",
       "3   Heidi Morehouse     5.0   \n",
       "4          Grammy O     3.0   \n",
       "\n",
       "                                             product  \\\n",
       "0  Thick-It Original Food & Beverage Thickener, 3...   \n",
       "1  Thick-It Original Food & Beverage Thickener, 3...   \n",
       "2  Thick-It Original Food & Beverage Thickener, 3...   \n",
       "3  Thick-It Original Food & Beverage Thickener, 3...   \n",
       "4  Thick-It Original Food & Beverage Thickener, 3...   \n",
       "\n",
       "                                                 url  \n",
       "0  https://www.amazon.com/Thick-It-RD26929208-36-...  \n",
       "1  https://www.amazon.com/Thick-It-RD26929208-36-...  \n",
       "2  https://www.amazon.com/Thick-It-RD26929208-36-...  \n",
       "3  https://www.amazon.com/Thick-It-RD26929208-36-...  \n",
       "4  https://www.amazon.com/Thick-It-RD26929208-36-...  "
      ]
     },
     "execution_count": 46,
     "metadata": {},
     "output_type": "execute_result"
    }
   ],
   "source": [
    "import pandas as pd\n",
    "import os\n",
    "\n",
    "comments = pd.read_csv(\"data_copy.csv\")\n",
    "comments.head()"
   ]
  },
  {
   "cell_type": "code",
   "execution_count": 47,
   "metadata": {
    "scrolled": true
   },
   "outputs": [
    {
     "name": "stderr",
     "output_type": "stream",
     "text": [
      "/Users/brianzhang/opt/anaconda3/lib/python3.8/site-packages/ipykernel/ipkernel.py:287: DeprecationWarning: `should_run_async` will not call `transform_cell` automatically in the future. Please pass the result to `transformed_cell` argument and any exception that happen during thetransform in `preprocessing_exc_tuple` in IPython 7.17 and above.\n",
      "  and should_run_async(code)\n"
     ]
    },
    {
     "data": {
      "text/html": [
       "<div>\n",
       "<style scoped>\n",
       "    .dataframe tbody tr th:only-of-type {\n",
       "        vertical-align: middle;\n",
       "    }\n",
       "\n",
       "    .dataframe tbody tr th {\n",
       "        vertical-align: top;\n",
       "    }\n",
       "\n",
       "    .dataframe thead th {\n",
       "        text-align: right;\n",
       "    }\n",
       "</style>\n",
       "<table border=\"1\" class=\"dataframe\">\n",
       "  <thead>\n",
       "    <tr style=\"text-align: right;\">\n",
       "      <th></th>\n",
       "      <th>title</th>\n",
       "      <th>content</th>\n",
       "    </tr>\n",
       "  </thead>\n",
       "  <tbody>\n",
       "    <tr>\n",
       "      <th>0</th>\n",
       "      <td>Thick it works .....</td>\n",
       "      <td>Easy to thicken and works very well.  Unfortun...</td>\n",
       "    </tr>\n",
       "    <tr>\n",
       "      <th>1</th>\n",
       "      <td>Five Stars</td>\n",
       "      <td>Great Product.</td>\n",
       "    </tr>\n",
       "    <tr>\n",
       "      <th>2</th>\n",
       "      <td>Five Stars</td>\n",
       "      <td>As good as it gets  !!!!</td>\n",
       "    </tr>\n",
       "    <tr>\n",
       "      <th>3</th>\n",
       "      <td>Five Stars</td>\n",
       "      <td>Order always arrives promptly. I order from Pr...</td>\n",
       "    </tr>\n",
       "    <tr>\n",
       "      <th>4</th>\n",
       "      <td>Three Stars</td>\n",
       "      <td>Good product and good value.</td>\n",
       "    </tr>\n",
       "  </tbody>\n",
       "</table>\n",
       "</div>"
      ],
      "text/plain": [
       "                  title                                            content\n",
       "0  Thick it works .....  Easy to thicken and works very well.  Unfortun...\n",
       "1            Five Stars                                     Great Product.\n",
       "2            Five Stars                           As good as it gets  !!!!\n",
       "3            Five Stars  Order always arrives promptly. I order from Pr...\n",
       "4           Three Stars                       Good product and good value."
      ]
     },
     "execution_count": 47,
     "metadata": {},
     "output_type": "execute_result"
    }
   ],
   "source": [
    "#remove columns \n",
    "comments = comments.loc[:, comments.columns.intersection(['title','content'])]\n",
    "comments.head()"
   ]
  },
  {
   "cell_type": "code",
   "execution_count": 48,
   "metadata": {
    "scrolled": true
   },
   "outputs": [
    {
     "name": "stderr",
     "output_type": "stream",
     "text": [
      "/Users/brianzhang/opt/anaconda3/lib/python3.8/site-packages/ipykernel/ipkernel.py:287: DeprecationWarning: `should_run_async` will not call `transform_cell` automatically in the future. Please pass the result to `transformed_cell` argument and any exception that happen during thetransform in `preprocessing_exc_tuple` in IPython 7.17 and above.\n",
      "  and should_run_async(code)\n"
     ]
    },
    {
     "data": {
      "text/html": [
       "<div>\n",
       "<style scoped>\n",
       "    .dataframe tbody tr th:only-of-type {\n",
       "        vertical-align: middle;\n",
       "    }\n",
       "\n",
       "    .dataframe tbody tr th {\n",
       "        vertical-align: top;\n",
       "    }\n",
       "\n",
       "    .dataframe thead th {\n",
       "        text-align: right;\n",
       "    }\n",
       "</style>\n",
       "<table border=\"1\" class=\"dataframe\">\n",
       "  <thead>\n",
       "    <tr style=\"text-align: right;\">\n",
       "      <th></th>\n",
       "      <th>title</th>\n",
       "      <th>content</th>\n",
       "    </tr>\n",
       "  </thead>\n",
       "  <tbody>\n",
       "    <tr>\n",
       "      <th>0</th>\n",
       "      <td>Thick it works .....</td>\n",
       "      <td>Thick it works ..... Easy to thicken and works...</td>\n",
       "    </tr>\n",
       "    <tr>\n",
       "      <th>1</th>\n",
       "      <td>Five Stars</td>\n",
       "      <td>Five Stars Great Product.</td>\n",
       "    </tr>\n",
       "    <tr>\n",
       "      <th>2</th>\n",
       "      <td>Five Stars</td>\n",
       "      <td>Five Stars As good as it gets  !!!!</td>\n",
       "    </tr>\n",
       "    <tr>\n",
       "      <th>3</th>\n",
       "      <td>Five Stars</td>\n",
       "      <td>Five Stars Order always arrives promptly. I or...</td>\n",
       "    </tr>\n",
       "    <tr>\n",
       "      <th>4</th>\n",
       "      <td>Three Stars</td>\n",
       "      <td>Three Stars Good product and good value.</td>\n",
       "    </tr>\n",
       "  </tbody>\n",
       "</table>\n",
       "</div>"
      ],
      "text/plain": [
       "                  title                                            content\n",
       "0  Thick it works .....  Thick it works ..... Easy to thicken and works...\n",
       "1            Five Stars                          Five Stars Great Product.\n",
       "2            Five Stars                Five Stars As good as it gets  !!!!\n",
       "3            Five Stars  Five Stars Order always arrives promptly. I or...\n",
       "4           Three Stars           Three Stars Good product and good value."
      ]
     },
     "execution_count": 48,
     "metadata": {},
     "output_type": "execute_result"
    }
   ],
   "source": [
    "# combine title and content \n",
    "for i in range(0, len(comments)):\n",
    "    comments['content'][i] = comments['title'][i] + \" \" + comments['content'][i]\n",
    "comments.head()"
   ]
  },
  {
   "cell_type": "code",
   "execution_count": 49,
   "metadata": {},
   "outputs": [
    {
     "name": "stderr",
     "output_type": "stream",
     "text": [
      "/Users/brianzhang/opt/anaconda3/lib/python3.8/site-packages/ipykernel/ipkernel.py:287: DeprecationWarning: `should_run_async` will not call `transform_cell` automatically in the future. Please pass the result to `transformed_cell` argument and any exception that happen during thetransform in `preprocessing_exc_tuple` in IPython 7.17 and above.\n",
      "  and should_run_async(code)\n",
      "<>:6: DeprecationWarning: invalid escape sequence \\.\n",
      "<>:6: DeprecationWarning: invalid escape sequence \\.\n",
      "<ipython-input-49-45bbf9bdb991>:6: DeprecationWarning: invalid escape sequence \\.\n",
      "  comments['content'].map(lambda x: re.sub('[,\\.!?]', '', x))\n"
     ]
    },
    {
     "data": {
      "text/plain": [
       "0    thick it works  easy to thicken and works very...\n",
       "1                             five stars great product\n",
       "2                      five stars as good as it gets  \n",
       "3    five stars order always arrives promptly i ord...\n",
       "4              three stars good product and good value\n",
       "Name: content_text_processed, dtype: object"
      ]
     },
     "execution_count": 49,
     "metadata": {},
     "output_type": "execute_result"
    }
   ],
   "source": [
    "# Load the regular expression library\n",
    "import re\n",
    "\n",
    "# Remove punctuation\n",
    "comments['content_text_processed'] = \\\n",
    "comments['content'].map(lambda x: re.sub('[,\\.!?]', '', x))\n",
    "# Convert the titles to lowercase\n",
    "comments['content_text_processed'] = \\\n",
    "comments['content_text_processed'].map(lambda x: x.lower())\n",
    "# Print out the first rows of papers\n",
    "comments['content_text_processed'].head()"
   ]
  },
  {
   "cell_type": "code",
   "execution_count": 50,
   "metadata": {},
   "outputs": [
    {
     "name": "stderr",
     "output_type": "stream",
     "text": [
      "/Users/brianzhang/opt/anaconda3/lib/python3.8/site-packages/ipykernel/ipkernel.py:287: DeprecationWarning: `should_run_async` will not call `transform_cell` automatically in the future. Please pass the result to `transformed_cell` argument and any exception that happen during thetransform in `preprocessing_exc_tuple` in IPython 7.17 and above.\n",
      "  and should_run_async(code)\n"
     ]
    },
    {
     "data": {
      "image/png": "[encoded data removed]",
      "text/plain": [
       "<PIL.Image.Image image mode=RGB size=400x200 at 0x7FFD6C30BA90>"
      ]
     },
     "execution_count": 50,
     "metadata": {},
     "output_type": "execute_result"
    }
   ],
   "source": [
    "# Import the wordcloud library\n",
    "from wordcloud import WordCloud\n",
    "# Join the different processed titles together.\n",
    "long_string = ','.join(list(comments['content'].values))\n",
    "# Create a WordCloud object\n",
    "wordcloud = WordCloud(background_color=\"white\", max_words=5000, contour_width=3, contour_color='steelblue')\n",
    "# Generate a word cloud\n",
    "wordcloud.generate(long_string)\n",
    "# Visualize the word cloud\n",
    "wordcloud.to_image()"
   ]
  },
  {
   "cell_type": "code",
   "execution_count": 51,
   "metadata": {},
   "outputs": [
    {
     "name": "stderr",
     "output_type": "stream",
     "text": [
      "/Users/brianzhang/opt/anaconda3/lib/python3.8/site-packages/ipykernel/ipkernel.py:287: DeprecationWarning: `should_run_async` will not call `transform_cell` automatically in the future. Please pass the result to `transformed_cell` argument and any exception that happen during thetransform in `preprocessing_exc_tuple` in IPython 7.17 and above.\n",
      "  and should_run_async(code)\n",
      "[nltk_data] Downloading package stopwords to\n",
      "[nltk_data]     /Users/brianzhang/nltk_data...\n",
      "[nltk_data]   Package stopwords is already up-to-date!\n"
     ]
    },
    {
     "name": "stdout",
     "output_type": "stream",
     "text": [
      "['thick', 'works', 'easy', 'thicken', 'works', 'well', 'unfortunately', 'takes', 'quite', 'bit', 'cup', 'using', 'lot', 'works', 'happy']\n"
     ]
    }
   ],
   "source": [
    "import gensim\n",
    "from gensim.utils import simple_preprocess\n",
    "import nltk\n",
    "nltk.download('stopwords')\n",
    "from nltk.corpus import stopwords\n",
    "\n",
    "stop_words = stopwords.words('english')\n",
    "stop_words.extend(['product', 'use'])\n",
    "\n",
    "def sent_to_words(sentences):\n",
    "    for sentence in sentences:\n",
    "        # deacc=True removes punctuations\n",
    "        yield(gensim.utils.simple_preprocess(str(sentence), deacc=True))\n",
    "\n",
    "def remove_stopwords(texts):\n",
    "    return [[word for word in simple_preprocess(str(doc)) \n",
    "             if word not in stop_words] for doc in texts]\n",
    "\n",
    "data = comments.content_text_processed.values.tolist()\n",
    "data_words = list(sent_to_words(data))\n",
    "# remove stop words\n",
    "data_words = remove_stopwords(data_words)\n",
    "print(data_words[:1][0][:30])"
   ]
  },
  {
   "cell_type": "code",
   "execution_count": 52,
   "metadata": {},
   "outputs": [
    {
     "name": "stdout",
     "output_type": "stream",
     "text": [
      "[(0, 1), (1, 1), (2, 1), (3, 1), (4, 1), (5, 1), (6, 1), (7, 1), (8, 1), (9, 1), (10, 1), (11, 1), (12, 3)]\n"
     ]
    },
    {
     "name": "stderr",
     "output_type": "stream",
     "text": [
      "/Users/brianzhang/opt/anaconda3/lib/python3.8/site-packages/ipykernel/ipkernel.py:287: DeprecationWarning: `should_run_async` will not call `transform_cell` automatically in the future. Please pass the result to `transformed_cell` argument and any exception that happen during thetransform in `preprocessing_exc_tuple` in IPython 7.17 and above.\n",
      "  and should_run_async(code)\n"
     ]
    }
   ],
   "source": [
    "import gensim.corpora as corpora\n",
    "# Create Dictionary\n",
    "id2word = corpora.Dictionary(data_words)\n",
    "# Create Corpus\n",
    "texts = data_words\n",
    "# Term Document Frequency\n",
    "corpus = [id2word.doc2bow(text) for text in texts]\n",
    "# View\n",
    "print(corpus[:1][0][:30])"
   ]
  },
  {
   "cell_type": "code",
   "execution_count": 53,
   "metadata": {},
   "outputs": [
    {
     "name": "stderr",
     "output_type": "stream",
     "text": [
      "/Users/brianzhang/opt/anaconda3/lib/python3.8/site-packages/ipykernel/ipkernel.py:287: DeprecationWarning: `should_run_async` will not call `transform_cell` automatically in the future. Please pass the result to `transformed_cell` argument and any exception that happen during thetransform in `preprocessing_exc_tuple` in IPython 7.17 and above.\n",
      "  and should_run_async(code)\n"
     ]
    },
    {
     "name": "stdout",
     "output_type": "stream",
     "text": [
      "[(0,\n",
      "  '0.020*\"great\" + 0.017*\"thick\" + 0.015*\"swallowing\" + 0.014*\"liquids\" + '\n",
      "  '0.010*\"price\" + 0.009*\"stars\" + 0.009*\"good\" + 0.009*\"water\" + 0.008*\"five\" '\n",
      "  '+ 0.008*\"liquid\"'),\n",
      " (1,\n",
      "  '0.015*\"good\" + 0.012*\"thick\" + 0.011*\"like\" + 0.010*\"thicken\" + 0.009*\"bad\" '\n",
      "  '+ 0.009*\"water\" + 0.008*\"swallowing\" + 0.007*\"well\" + 0.007*\"food\" + '\n",
      "  '0.006*\"taste\"'),\n",
      " (2,\n",
      "  '0.025*\"works\" + 0.022*\"great\" + 0.015*\"water\" + 0.014*\"thick\" + '\n",
      "  '0.012*\"well\" + 0.012*\"liquids\" + 0.009*\"used\" + 0.009*\"like\" + 0.008*\"good\" '\n",
      "  '+ 0.007*\"price\"')]\n"
     ]
    }
   ],
   "source": [
    "from pprint import pprint\n",
    "# number of topics\n",
    "num_topics = 3\n",
    "# Build LDA model\n",
    "lda_model = gensim.models.LdaMulticore(corpus=corpus,\n",
    "                                       id2word=id2word,\n",
    "                                       num_topics=num_topics)\n",
    "# Print the Keyword in the 10 topics\n",
    "pprint(lda_model.print_topics())\n",
    "doc_lda = lda_model[corpus]"
   ]
  },
  {
   "cell_type": "code",
   "execution_count": 54,
   "metadata": {},
   "outputs": [
    {
     "name": "stderr",
     "output_type": "stream",
     "text": [
      "/Users/brianzhang/opt/anaconda3/lib/python3.8/site-packages/ipykernel/ipkernel.py:287: DeprecationWarning: `should_run_async` will not call `transform_cell` automatically in the future. Please pass the result to `transformed_cell` argument and any exception that happen during thetransform in `preprocessing_exc_tuple` in IPython 7.17 and above.\n",
      "  and should_run_async(code)\n"
     ]
    },
    {
     "ename": "ModuleNotFoundError",
     "evalue": "No module named 'pyLDAvis.gensim'",
     "output_type": "error",
     "traceback": [
      "\u001b[0;31m---------------------------------------------------------------------------\u001b[0m",
      "\u001b[0;31mModuleNotFoundError\u001b[0m                       Traceback (most recent call last)",
      "\u001b[0;32m<ipython-input-54-570e1365f0ea>\u001b[0m in \u001b[0;36m<module>\u001b[0;34m\u001b[0m\n\u001b[0;32m----> 1\u001b[0;31m \u001b[0;32mimport\u001b[0m \u001b[0mpyLDAvis\u001b[0m\u001b[0;34m.\u001b[0m\u001b[0mgensim\u001b[0m \u001b[0;32mas\u001b[0m \u001b[0mgensimvis\u001b[0m\u001b[0;34m\u001b[0m\u001b[0;34m\u001b[0m\u001b[0m\n\u001b[0m\u001b[1;32m      2\u001b[0m \u001b[0;32mimport\u001b[0m \u001b[0mpyLDAvis\u001b[0m\u001b[0;34m\u001b[0m\u001b[0;34m\u001b[0m\u001b[0m\n\u001b[1;32m      3\u001b[0m \u001b[0;32mimport\u001b[0m \u001b[0mpickle\u001b[0m\u001b[0;34m\u001b[0m\u001b[0;34m\u001b[0m\u001b[0m\n\u001b[1;32m      4\u001b[0m \u001b[0;34m\u001b[0m\u001b[0m\n\u001b[1;32m      5\u001b[0m \u001b[0;31m# Visualize the topics\u001b[0m\u001b[0;34m\u001b[0m\u001b[0;34m\u001b[0m\u001b[0;34m\u001b[0m\u001b[0m\n",
      "\u001b[0;31mModuleNotFoundError\u001b[0m: No module named 'pyLDAvis.gensim'"
     ]
    }
   ],
   "source": [
    "import pyLDAvis.gensim as gensimvis\n",
    "import pyLDAvis\n",
    "import pickle \n",
    "\n",
    "# Visualize the topics\n",
    "pyLDAvis.enable_notebook()\n",
    "LDAvis_data_filepath = os.path.join('./results/ldavis_prepared_'+str(num_topics))\n",
    "# # this is a bit time consuming - make the if statement True\n",
    "# # if you want to execute visualization prep yourself\n",
    "if 1 == 1:\n",
    "    LDAvis_prepared = pyLDAvis.gensim_models.prepare(lda_model, corpus, id2word)\n",
    "    with open(LDAvis_data_filepath, 'wb') as f:\n",
    "        pickle.dump(LDAvis_prepared, f)\n",
    "# load the pre-prepared pyLDAvis data from disk\n",
    "with open(LDAvis_data_filepath, 'rb') as f:\n",
    "    LDAvis_prepared = pickle.load(f)\n",
    "pyLDAvis.save_html(LDAvis_prepared, './results/ldavis_prepared_'+ str(num_topics) +'.html')\n",
    "LDAvis_prepared"
   ]
  },
  {
   "cell_type": "code",
   "execution_count": null,
   "metadata": {},
   "outputs": [],
   "source": []
  }
 ],
 "metadata": {
  "kernelspec": {
   "display_name": "Python 3",
   "language": "python",
   "name": "python3"
  },
  "language_info": {
   "codemirror_mode": {
    "name": "ipython",
    "version": 3
   },
   "file_extension": ".py",
   "mimetype": "text/x-python",
   "name": "python",
   "nbconvert_exporter": "python",
   "pygments_lexer": "ipython3",
   "version": "3.8.5"
  }
 },
 "nbformat": 4,
 "nbformat_minor": 4
}
